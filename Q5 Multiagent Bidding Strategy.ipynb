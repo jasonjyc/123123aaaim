{
  "nbformat": 4,
  "nbformat_minor": 0,
  "metadata": {
    "colab": {
      "name": "Bidprice_Prediction_submission.ipynb",
      "version": "0.3.2",
      "provenance": [],
      "collapsed_sections": []
    },
    "kernelspec": {
      "name": "python3",
      "display_name": "Python 3"
    }
  },
  "cells": [
    {
      "metadata": {
        "id": "o6PwIZa0VYTq",
        "colab_type": "text"
      },
      "cell_type": "markdown",
      "source": [
        " # Bidprice Prediction\n",
        " Based on the feature engineering and different combinations of model and formula which serves as different agents in the auction, this file aims at identifying the best combination (agent) and game theroy based approach."
      ]
    },
    {
      "metadata": {
        "id": "HE-mC2XHSStu",
        "colab_type": "code",
        "colab": {}
      },
      "cell_type": "code",
      "source": [
        "import pandas as pd\n",
        "import numpy as np\n",
        "import matplotlib.pyplot as plt\n",
        "\n",
        "from imblearn.under_sampling import RandomUnderSampler\n",
        "from sklearn.linear_model import LogisticRegression  \n",
        "from sklearn.tree import DecisionTreeClassifier\n",
        "from sklearn.ensemble import RandomForestClassifier\n",
        "from sklearn.model_selection import GridSearchCV\n",
        "from sklearn.model_selection import StratifiedKFold\n",
        "import xgboost"
      ],
      "execution_count": 0,
      "outputs": []
    },
    {
      "metadata": {
        "id": "F-L4_fyXVSSZ",
        "colab_type": "code",
        "colab": {}
      },
      "cell_type": "code",
      "source": [
        "from google.colab import drive\n",
        "drive.mount('/content/gdrive')"
      ],
      "execution_count": 0,
      "outputs": []
    },
    {
      "metadata": {
        "id": "NjAJxsQ6VXCG",
        "colab_type": "text"
      },
      "cell_type": "markdown",
      "source": [
        "## Import and Pre-process the Data\n",
        "This section imports the data and conducts the feature engineering."
      ]
    },
    {
      "metadata": {
        "id": "gF1uOc5GVVpl",
        "colab_type": "code",
        "colab": {}
      },
      "cell_type": "code",
      "source": [
        "def get_dummy_columns(df):\n",
        "    # convert categorical variable into dummy variables\n",
        "    df_dum = pd.get_dummies(df, dummy_na=True, columns=['weekday', 'hour', 'OS', 'browser', 'region', 'city', \n",
        "                                                        'adexchange', 'slotvisibility', 'slotformat', 'creative', \n",
        "                                                        'slotprice_bin','advertiser','keypage','size'])\n",
        "    df_dum = df_dum.join(df['usertag'].astype(str).str.strip('[]').str.get_dummies(','))\n",
        "    df_dum = df_dum.drop(['usertag'],axis=1)\n",
        "    \n",
        "    return df_dum"
      ],
      "execution_count": 0,
      "outputs": []
    },
    {
      "metadata": {
        "id": "o-2CifBIfdw0",
        "colab_type": "code",
        "colab": {}
      },
      "cell_type": "code",
      "source": [
        "def encode_slotprice_bin(df):\n",
        "    # categorise the slotprice\n",
        "    df['slotprice_bin'] = 0\n",
        "    df.loc[df['slotprice'] <= 10, 'slotprice_bin'] = 1\n",
        "    df.loc[(df['slotprice'] > 10) & (df['slotprice'] <= 50), 'slotprice_bin'] = 2\n",
        "    df.loc[(df['slotprice'] > 50) & (df['slotprice'] <= 100), 'slotprice_bin'] = 3\n",
        "    df.loc[df['slotprice'] > 100, 'slotprice_bin'] = 4\n",
        "    df['slotprice_bin'] = df['slotprice_bin'].astype(np.uint8)\n",
        "        \n",
        "    return df"
      ],
      "execution_count": 0,
      "outputs": []
    },
    {
      "metadata": {
        "id": "AxIzFQPAv15q",
        "colab_type": "code",
        "colab": {}
      },
      "cell_type": "code",
      "source": [
        "def adjust_feature(target, df):\n",
        "    # collect feature difference\n",
        "    drop_feature = np.setdiff1d(df.columns, target.columns)\n",
        "    add_feature = np.setdiff1d(target.columns, df.columns)\n",
        "    \n",
        "    # adjust feature\n",
        "    df.drop(drop_feature, axis=1, inplace=True)\n",
        "    df = df.assign(**{c: 0 for c in add_feature})\n",
        "    \n",
        "    # adjust feature order\n",
        "    df_new = pd.DataFrame()\n",
        "    for key in target:\n",
        "        df_new[key] = df[key]\n",
        "    \n",
        "    return df_new"
      ],
      "execution_count": 0,
      "outputs": []
    },
    {
      "metadata": {
        "id": "v8pTwIYhgmuY",
        "colab_type": "code",
        "colab": {}
      },
      "cell_type": "code",
      "source": [
        "def feature_engineering(df, target=None, test=False, train=False):\n",
        "    \n",
        "    print(\"Input shape:\\t{}\".format(df.shape))\n",
        "    # calcuate the slot size\n",
        "    df['size'] = df['slotwidth'] * df['slotheight']\n",
        "    \n",
        "    # split user agent information\n",
        "    df['OS'], df['browser'] = zip(*df['useragent'].map(lambda x: x.split('_')))\n",
        "    \n",
        "    # set slotprice bin\n",
        "    df = encode_slotprice_bin(df)\n",
        "    \n",
        "    if test is True:\n",
        "        # drop some features\n",
        "        df = df.drop(['bidid','userid','IP','url','urlid','slotid','useragent',\n",
        "                      'domain','slotwidth', 'slotheight','slotprice'],axis=1)\n",
        "        \n",
        "        # create dummies for categarical variables\n",
        "        df = get_dummy_columns(df)\n",
        "        \n",
        "        # adjust features to match train set\n",
        "        df = adjust_feature(target,df)\n",
        "        \n",
        "        df.fillna(0, inplace=True)\n",
        "        print(\"Output shape:\\t{}\".format(df.shape))\n",
        "        \n",
        "        return df\n",
        "    \n",
        "    else:       \n",
        "        # output label\n",
        "        y = df['click']\n",
        "        \n",
        "        df = df.drop(['click','bidid','userid','IP','url','urlid','slotid',\n",
        "                      'useragent','bidprice','payprice','domain','slotwidth',\n",
        "                      'slotheight','slotprice'],axis=1)\n",
        "                       \n",
        "        # Undersample the training dataset\n",
        "        if train is True:\n",
        "            col_name = list(df.columns)\n",
        "            sampler = RandomUnderSampler(random_state=3 ,ratio={1:1786,0:10716})\n",
        "            df_sample, y = sampler.fit_sample(df,y)\n",
        "            df = pd.DataFrame(df_sample,columns=col_name)\n",
        "            \n",
        "            # create dummies for categarical variables  \n",
        "            df = get_dummy_columns(df)\n",
        "            \n",
        "        else:\n",
        "            # create dummies for categarical variables  \n",
        "            df = get_dummy_columns(df)\n",
        "            \n",
        "            # adjust features to match train set\n",
        "            df = adjust_feature(target,df)\n",
        "        \n",
        "        df.fillna(0, inplace=True)\n",
        "        print(\"Output shape:\\t{}\".format(df.shape))\n",
        "        \n",
        "        return df, y"
      ],
      "execution_count": 0,
      "outputs": []
    },
    {
      "metadata": {
        "id": "ag8BmAexoFwB",
        "colab_type": "code",
        "colab": {}
      },
      "cell_type": "code",
      "source": [
        "# import data\n",
        "train = pd.read_csv('/content/gdrive/My Drive/Colab Notebooks/AI/data/train.csv')\n",
        "validation = pd.read_csv('/content/gdrive/My Drive/Colab Notebooks/AI/data/validation.csv')\n",
        "test = pd.read_csv('/content/gdrive/My Drive/Colab Notebooks/AI/data/test.csv')"
      ],
      "execution_count": 0,
      "outputs": []
    },
    {
      "metadata": {
        "id": "USeIxWGgoKjM",
        "colab_type": "code",
        "outputId": "16ad2454-321f-49b2-c135-2cbda80ba024",
        "colab": {
          "base_uri": "https://localhost:8080/",
          "height": 185
        }
      },
      "cell_type": "code",
      "source": [
        "# conduct feature engineering\n",
        "X_train, y_train = feature_engineering(train, train=True)\n",
        "print('\\n')\n",
        "X_validation, y_validation = feature_engineering(validation, target=X_train)\n",
        "print('\\n')\n",
        "X_test = feature_engineering(test, target=X_train, test=True)"
      ],
      "execution_count": 9,
      "outputs": [
        {
          "output_type": "stream",
          "text": [
            "Input shape:\t(2430981, 25)\n",
            "Output shape:\t(12502, 714)\n",
            "\n",
            "\n",
            "Input shape:\t(303925, 25)\n",
            "Output shape:\t(303925, 714)\n",
            "\n",
            "\n",
            "Input shape:\t(303375, 22)\n",
            "Output shape:\t(303375, 714)\n"
          ],
          "name": "stdout"
        }
      ]
    },
    {
      "metadata": {
        "id": "Vj0jIRfJ1vh7",
        "colab_type": "text"
      },
      "cell_type": "markdown",
      "source": [
        "## Build Models and Predict CTR (Validation Set)\n",
        "This section builds different models to predict CTR of the validation set."
      ]
    },
    {
      "metadata": {
        "id": "aoNn7fssqcDQ",
        "colab_type": "code",
        "colab": {}
      },
      "cell_type": "code",
      "source": [
        "# set three classifers\n",
        "clf_LR = LogisticRegression(penalty='l1', max_iter=100, C=0.1, solver='saga',class_weight='unbalanced')\n",
        "clf_RF = RandomForestClassifier(n_estimators=50, random_state=0)\n",
        "clf_xgb = xgboost.XGBClassifier(max_depth=5, n_estimators=200, min_child_weight=3, learning_rate=0.05,\n",
        "                                colsample_bytree=0.8, silent=0, subsample=0.8, objective='binary:logistic')\n",
        "clf_set = [clf_LR,clf_RF,clf_xgb]\n",
        "\n",
        "# labels of classifers\n",
        "clf_labels = ['LR','RF','XGB']"
      ],
      "execution_count": 0,
      "outputs": []
    },
    {
      "metadata": {
        "id": "60f5HUGUCDYf",
        "colab_type": "code",
        "colab": {}
      },
      "cell_type": "code",
      "source": [
        "# calculate pCTR\n",
        "pCTR_results = pd.DataFrame(columns=clf_labels)\n",
        "w = 10716/train.shape[0]\n",
        "\n",
        "for clf, label in zip(clf_set, clf_labels):\n",
        "    y_validation_proba = clf.fit(X_train,y_train).predict_proba(X_validation)\n",
        "    pCTR_results[label] = y_validation_proba[:,1]/(y_validation_proba[:,1]+(1-y_validation_proba[:,1])/w)"
      ],
      "execution_count": 0,
      "outputs": []
    },
    {
      "metadata": {
        "id": "EmSiGD2_i-JD",
        "colab_type": "text"
      },
      "cell_type": "markdown",
      "source": [
        "## Predict Bid Price (Validation Set)\n",
        "This section calculates the predicted bid price based on various combinations of  model and formula."
      ]
    },
    {
      "metadata": {
        "id": "tz6pjUZGgUiO",
        "colab_type": "code",
        "colab": {}
      },
      "cell_type": "code",
      "source": [
        "def calculate_bidprice(pCTR,formula):\n",
        "    \n",
        "    df_bidprice = pd.DataFrame()\n",
        "    \n",
        "    for label in clf_labels:\n",
        "        CTR = pCTR[label]\n",
        "        \n",
        "        # linear bidding formula\n",
        "        if formula == 'linear':\n",
        "            df_bidprice[label+'_'+'linear'] = 126 * (CTR/avgCTR)\n",
        "        \n",
        "        # quadratic formula\n",
        "        if formula == 'quadratic':\n",
        "            df_bidprice[label+'_'+'quadratic'] = 168 * (CTR/avgCTR)**2\n",
        "                \n",
        "        # ORTB\n",
        "        if formula == 'ORTB':\n",
        "            df_bidprice[label+'_'+'ORTB'] = np.sqrt(20 / 1e-6 * CTR + 20 ** 2) - 20\n",
        "                \n",
        "    return df_bidprice"
      ],
      "execution_count": 0,
      "outputs": []
    },
    {
      "metadata": {
        "id": "YFEfJvD9recD",
        "colab_type": "code",
        "colab": {}
      },
      "cell_type": "code",
      "source": [
        "# using different formulas to calculate the predicting bidprice\n",
        "avgCTR = sum(train['click'])/train.shape[0]\n",
        "\n",
        "df_linear = calculate_bidprice(pCTR_results,formula='linear')\n",
        "df_quadratic = calculate_bidprice(pCTR_results,formula='quadratic')\n",
        "df_ORTB = calculate_bidprice(pCTR_results,formula='ORTB')\n",
        "\n",
        "result_set = [df_linear,df_quadratic,df_ORTB]\n",
        "df_bidprice = pd.concat(result_set, axis=1)"
      ],
      "execution_count": 0,
      "outputs": []
    },
    {
      "metadata": {
        "id": "8b_HWYwNWqnY",
        "colab_type": "code",
        "outputId": "ca87bc47-e074-4f91-b456-bd4025d49ec7",
        "colab": {
          "base_uri": "https://localhost:8080/",
          "height": 195
        }
      },
      "cell_type": "code",
      "source": [
        "df_bidprice.head()"
      ],
      "execution_count": 20,
      "outputs": [
        {
          "output_type": "execute_result",
          "data": {
            "text/html": [
              "<div>\n",
              "<style scoped>\n",
              "    .dataframe tbody tr th:only-of-type {\n",
              "        vertical-align: middle;\n",
              "    }\n",
              "\n",
              "    .dataframe tbody tr th {\n",
              "        vertical-align: top;\n",
              "    }\n",
              "\n",
              "    .dataframe thead th {\n",
              "        text-align: right;\n",
              "    }\n",
              "</style>\n",
              "<table border=\"1\" class=\"dataframe\">\n",
              "  <thead>\n",
              "    <tr style=\"text-align: right;\">\n",
              "      <th></th>\n",
              "      <th>LR_linear</th>\n",
              "      <th>RF_linear</th>\n",
              "      <th>XGB_linear</th>\n",
              "      <th>LR_quadratic</th>\n",
              "      <th>RF_quadratic</th>\n",
              "      <th>XGB_quadratic</th>\n",
              "      <th>LR_ORTB</th>\n",
              "      <th>RF_ORTB</th>\n",
              "      <th>XGB_ORTB</th>\n",
              "    </tr>\n",
              "  </thead>\n",
              "  <tbody>\n",
              "    <tr>\n",
              "      <th>0</th>\n",
              "      <td>55.174117</td>\n",
              "      <td>48.053406</td>\n",
              "      <td>25.628753</td>\n",
              "      <td>32.213579</td>\n",
              "      <td>24.435237</td>\n",
              "      <td>6.950613</td>\n",
              "      <td>62.821619</td>\n",
              "      <td>57.625865</td>\n",
              "      <td>38.313333</td>\n",
              "    </tr>\n",
              "    <tr>\n",
              "      <th>1</th>\n",
              "      <td>25.668444</td>\n",
              "      <td>83.631096</td>\n",
              "      <td>18.952543</td>\n",
              "      <td>6.972159</td>\n",
              "      <td>74.012278</td>\n",
              "      <td>3.801046</td>\n",
              "      <td>38.353163</td>\n",
              "      <td>80.950362</td>\n",
              "      <td>31.174587</td>\n",
              "    </tr>\n",
              "    <tr>\n",
              "      <th>2</th>\n",
              "      <td>27.099016</td>\n",
              "      <td>48.053406</td>\n",
              "      <td>15.350596</td>\n",
              "      <td>7.770970</td>\n",
              "      <td>24.435237</td>\n",
              "      <td>2.493553</td>\n",
              "      <td>39.771010</td>\n",
              "      <td>57.625865</td>\n",
              "      <td>26.873727</td>\n",
              "    </tr>\n",
              "    <tr>\n",
              "      <th>3</th>\n",
              "      <td>29.847815</td>\n",
              "      <td>31.371260</td>\n",
              "      <td>14.806595</td>\n",
              "      <td>9.427429</td>\n",
              "      <td>10.414349</td>\n",
              "      <td>2.319950</td>\n",
              "      <td>42.405006</td>\n",
              "      <td>43.818019</td>\n",
              "      <td>26.189373</td>\n",
              "    </tr>\n",
              "    <tr>\n",
              "      <th>4</th>\n",
              "      <td>39.563382</td>\n",
              "      <td>15.366955</td>\n",
              "      <td>20.611810</td>\n",
              "      <td>16.563611</td>\n",
              "      <td>2.498871</td>\n",
              "      <td>4.495732</td>\n",
              "      <td>50.935316</td>\n",
              "      <td>26.894151</td>\n",
              "      <td>33.038612</td>\n",
              "    </tr>\n",
              "  </tbody>\n",
              "</table>\n",
              "</div>"
            ],
            "text/plain": [
              "   LR_linear  RF_linear  XGB_linear  LR_quadratic  RF_quadratic  \\\n",
              "0  55.174117  48.053406   25.628753     32.213579     24.435237   \n",
              "1  25.668444  83.631096   18.952543      6.972159     74.012278   \n",
              "2  27.099016  48.053406   15.350596      7.770970     24.435237   \n",
              "3  29.847815  31.371260   14.806595      9.427429     10.414349   \n",
              "4  39.563382  15.366955   20.611810     16.563611      2.498871   \n",
              "\n",
              "   XGB_quadratic    LR_ORTB    RF_ORTB   XGB_ORTB  \n",
              "0       6.950613  62.821619  57.625865  38.313333  \n",
              "1       3.801046  38.353163  80.950362  31.174587  \n",
              "2       2.493553  39.771010  57.625865  26.873727  \n",
              "3       2.319950  42.405006  43.818019  26.189373  \n",
              "4       4.495732  50.935316  26.894151  33.038612  "
            ]
          },
          "metadata": {
            "tags": []
          },
          "execution_count": 20
        }
      ]
    },
    {
      "metadata": {
        "id": "F2HXuL0dK742",
        "colab_type": "text"
      },
      "cell_type": "markdown",
      "source": [
        "## Multiagent Bidding Process (Validation Set)\n",
        "This section utilizes the predicted bidprice results of the pervious section and conducts the auction based on the winning criterion 2. After the auction, the agent wins the most click is the best combination."
      ]
    },
    {
      "metadata": {
        "id": "yPvpf6lHLo_o",
        "colab_type": "code",
        "colab": {}
      },
      "cell_type": "code",
      "source": [
        "bidprice = df_bidprice.copy()\n",
        "\n",
        "# add the 'click' and 'payprice' features from the validation set to bidprice dataframe\n",
        "bidprice['click'] = validation['click']\n",
        "bidprice['validation'] = validation['payprice']"
      ],
      "execution_count": 0,
      "outputs": []
    },
    {
      "metadata": {
        "id": "DN2lJGlWpxOe",
        "colab_type": "code",
        "colab": {}
      },
      "cell_type": "code",
      "source": [
        "# define the function of multiagent bidding auction\n",
        "def multiagent_bidding(df, df_other, self_team, budget=6250*1000, num=1):\n",
        "    \n",
        "    result = np.zeros((num, 6))\n",
        "    N =  df.shape[0]\n",
        "    \n",
        "    # bidding agents\n",
        "    for i in range(num):\n",
        "        bid_self = df[self_team].values \n",
        "        bid_other_max = np.max(df_other, axis=1)\n",
        "        bid_other_max.sort_index(inplace=True)\n",
        "        \n",
        "        won = np.where(bid_self > bid_other_max, True, False)\n",
        "\n",
        "        # if won, then pay bid other max; else pay 0\n",
        "        payprice = np.where(won, bid_other_max, 0)\n",
        "    \n",
        "        df_winning = df_other[['click']][won].copy()\n",
        "        df_winning \n",
        "        df_winning['payprice'] = payprice[won] # pay 2nd price\n",
        "        \n",
        "        \n",
        "        df_winning['total_cost'] = df_winning['payprice'].cumsum()\n",
        "        final_df = df_winning[df_winning['total_cost'] <= budget]\n",
        "        \n",
        "        # stats\n",
        "        click = final_df['click'].sum()\n",
        "        impression = final_df.shape[0]\n",
        "        totalCPM = final_df['payprice'].sum()\n",
        "        spend = totalCPM / 1000\n",
        "\n",
        "        if impression > 0:\n",
        "            CTR = click / impression\n",
        "            CPM = totalCPM / impression\n",
        "        else:\n",
        "            CTR = np.NaN\n",
        "            CPM = np.NaN\n",
        "\n",
        "        if click > 0:\n",
        "            CPC = spend / click\n",
        "        else:\n",
        "            CPC = np.NaN\n",
        "        \n",
        "        result[i,:] = np.array([spend, impression, click, CTR, CPM, CPC])\n",
        "        \n",
        "    res = np.mean(result, axis=0)\n",
        "    \n",
        "    # unpack result\n",
        "    spend, imp, click, CTR, CPM, CPC = res.T\n",
        "    \n",
        "    return spend, imp, click, CTR, CPM, CPC"
      ],
      "execution_count": 0,
      "outputs": []
    },
    {
      "metadata": {
        "id": "rPpY-EaUqszr",
        "colab_type": "code",
        "colab": {}
      },
      "cell_type": "code",
      "source": [
        "# Bidding Approach 1: use the original predicted bidprice to bid (approaches list will be mentioned in the last section)\n",
        "click_list_1 = []\n",
        "teams = ['LR_linear', 'RF_linear', 'XGB_linear', 'LR_quadratic', 'RF_quadratic', \n",
        "         'XGB_quadratic', 'LR_ORTB', 'RF_ORTB', 'XGB_ORTB','validation']\n",
        "\n",
        "for team in teams: \n",
        "    \n",
        "    # self and other\n",
        "    df_self = bidprice[[team]]\n",
        "    df_other = bidprice.drop(team, axis=1)\n",
        "    \n",
        "    spend, imp, click, CTR, CPM, CPC = multiagent_bidding(df_self, df_other, self_team=team, num=1)\n",
        "    click_list_1.append([team , imp, click, CPM, CTR, CPC])"
      ],
      "execution_count": 0,
      "outputs": []
    },
    {
      "metadata": {
        "id": "uhxCu2BIr6tJ",
        "colab_type": "code",
        "outputId": "2c101064-69bb-4882-ab18-224ee7f440ff",
        "colab": {
          "base_uri": "https://localhost:8080/",
          "height": 343
        }
      },
      "cell_type": "code",
      "source": [
        "pd.DataFrame(click_list_1 , columns=['team name', 'impression', 'click','CPM', 'CTR' ,'CPC'], )"
      ],
      "execution_count": 23,
      "outputs": [
        {
          "output_type": "execute_result",
          "data": {
            "text/html": [
              "<div>\n",
              "<style scoped>\n",
              "    .dataframe tbody tr th:only-of-type {\n",
              "        vertical-align: middle;\n",
              "    }\n",
              "\n",
              "    .dataframe tbody tr th {\n",
              "        vertical-align: top;\n",
              "    }\n",
              "\n",
              "    .dataframe thead th {\n",
              "        text-align: right;\n",
              "    }\n",
              "</style>\n",
              "<table border=\"1\" class=\"dataframe\">\n",
              "  <thead>\n",
              "    <tr style=\"text-align: right;\">\n",
              "      <th></th>\n",
              "      <th>team name</th>\n",
              "      <th>impression</th>\n",
              "      <th>click</th>\n",
              "      <th>CPM</th>\n",
              "      <th>CTR</th>\n",
              "      <th>CPC</th>\n",
              "    </tr>\n",
              "  </thead>\n",
              "  <tbody>\n",
              "    <tr>\n",
              "      <th>0</th>\n",
              "      <td>LR_linear</td>\n",
              "      <td>11402.0</td>\n",
              "      <td>2.0</td>\n",
              "      <td>83.271230</td>\n",
              "      <td>0.000175</td>\n",
              "      <td>474.729284</td>\n",
              "    </tr>\n",
              "    <tr>\n",
              "      <th>1</th>\n",
              "      <td>RF_linear</td>\n",
              "      <td>9794.0</td>\n",
              "      <td>0.0</td>\n",
              "      <td>81.001110</td>\n",
              "      <td>0.000000</td>\n",
              "      <td>NaN</td>\n",
              "    </tr>\n",
              "    <tr>\n",
              "      <th>2</th>\n",
              "      <td>XGB_linear</td>\n",
              "      <td>3831.0</td>\n",
              "      <td>2.0</td>\n",
              "      <td>83.299185</td>\n",
              "      <td>0.000522</td>\n",
              "      <td>159.559589</td>\n",
              "    </tr>\n",
              "    <tr>\n",
              "      <th>3</th>\n",
              "      <td>LR_quadratic</td>\n",
              "      <td>5478.0</td>\n",
              "      <td>4.0</td>\n",
              "      <td>1140.894384</td>\n",
              "      <td>0.000730</td>\n",
              "      <td>1562.454859</td>\n",
              "    </tr>\n",
              "    <tr>\n",
              "      <th>4</th>\n",
              "      <td>RF_quadratic</td>\n",
              "      <td>5154.0</td>\n",
              "      <td>5.0</td>\n",
              "      <td>1211.919892</td>\n",
              "      <td>0.000970</td>\n",
              "      <td>1249.247025</td>\n",
              "    </tr>\n",
              "    <tr>\n",
              "      <th>5</th>\n",
              "      <td>XGB_quadratic</td>\n",
              "      <td>1212.0</td>\n",
              "      <td>6.0</td>\n",
              "      <td>5155.491040</td>\n",
              "      <td>0.004950</td>\n",
              "      <td>1041.409190</td>\n",
              "    </tr>\n",
              "    <tr>\n",
              "      <th>6</th>\n",
              "      <td>LR_ORTB</td>\n",
              "      <td>37694.0</td>\n",
              "      <td>1.0</td>\n",
              "      <td>55.677505</td>\n",
              "      <td>0.000027</td>\n",
              "      <td>2098.707863</td>\n",
              "    </tr>\n",
              "    <tr>\n",
              "      <th>7</th>\n",
              "      <td>RF_ORTB</td>\n",
              "      <td>18431.0</td>\n",
              "      <td>0.0</td>\n",
              "      <td>55.796602</td>\n",
              "      <td>0.000000</td>\n",
              "      <td>NaN</td>\n",
              "    </tr>\n",
              "    <tr>\n",
              "      <th>8</th>\n",
              "      <td>XGB_ORTB</td>\n",
              "      <td>15689.0</td>\n",
              "      <td>4.0</td>\n",
              "      <td>53.814457</td>\n",
              "      <td>0.000255</td>\n",
              "      <td>211.073755</td>\n",
              "    </tr>\n",
              "    <tr>\n",
              "      <th>9</th>\n",
              "      <td>validation</td>\n",
              "      <td>89573.0</td>\n",
              "      <td>26.0</td>\n",
              "      <td>68.290976</td>\n",
              "      <td>0.000290</td>\n",
              "      <td>235.270292</td>\n",
              "    </tr>\n",
              "  </tbody>\n",
              "</table>\n",
              "</div>"
            ],
            "text/plain": [
              "       team name  impression  click          CPM       CTR          CPC\n",
              "0      LR_linear     11402.0    2.0    83.271230  0.000175   474.729284\n",
              "1      RF_linear      9794.0    0.0    81.001110  0.000000          NaN\n",
              "2     XGB_linear      3831.0    2.0    83.299185  0.000522   159.559589\n",
              "3   LR_quadratic      5478.0    4.0  1140.894384  0.000730  1562.454859\n",
              "4   RF_quadratic      5154.0    5.0  1211.919892  0.000970  1249.247025\n",
              "5  XGB_quadratic      1212.0    6.0  5155.491040  0.004950  1041.409190\n",
              "6        LR_ORTB     37694.0    1.0    55.677505  0.000027  2098.707863\n",
              "7        RF_ORTB     18431.0    0.0    55.796602  0.000000          NaN\n",
              "8       XGB_ORTB     15689.0    4.0    53.814457  0.000255   211.073755\n",
              "9     validation     89573.0   26.0    68.290976  0.000290   235.270292"
            ]
          },
          "metadata": {
            "tags": []
          },
          "execution_count": 23
        }
      ]
    },
    {
      "metadata": {
        "id": "Ei2ebrGbsDcl",
        "colab_type": "code",
        "colab": {}
      },
      "cell_type": "code",
      "source": [
        "# Bidding Approach 2: only keep the highest 20k bidprice for each agent and conduct the auction\n",
        "N = 20 * 1000\n",
        "test1 = bidprice.mask(bidprice.rank(axis=0, method='max', ascending=False) > N, 0)"
      ],
      "execution_count": 0,
      "outputs": []
    },
    {
      "metadata": {
        "id": "ACwEpNk1tyCC",
        "colab_type": "code",
        "colab": {}
      },
      "cell_type": "code",
      "source": [
        "click_list_2 = []\n",
        "teams = ['LR_linear', 'RF_linear', 'XGB_linear', 'LR_quadratic', 'RF_quadratic', \n",
        "         'XGB_quadratic', 'LR_ORTB', 'RF_ORTB', 'XGB_ORTB','validation']\n",
        "\n",
        "for team in teams: \n",
        "    \n",
        "    # self and other\n",
        "    df_self = test1[[team]]\n",
        "    df_other = test1.drop(team, axis=1)\n",
        "    \n",
        "    spend, imp, click, CTR, CPM, CPC = multiagent_bidding(df_self, df_other, self_team=team, num=1)\n",
        "    click_list_2.append([team , imp, click, CPM, CTR, CPC])"
      ],
      "execution_count": 0,
      "outputs": []
    },
    {
      "metadata": {
        "id": "43qUC9-uuPr8",
        "colab_type": "code",
        "outputId": "a39bf4f9-04d4-4a92-8971-883ce53a813c",
        "colab": {
          "base_uri": "https://localhost:8080/",
          "height": 343
        }
      },
      "cell_type": "code",
      "source": [
        "pd.DataFrame(click_list_2 , columns=['team name', 'impression', 'click','CPM', 'CTR' ,'CPC'], )"
      ],
      "execution_count": 26,
      "outputs": [
        {
          "output_type": "execute_result",
          "data": {
            "text/html": [
              "<div>\n",
              "<style scoped>\n",
              "    .dataframe tbody tr th:only-of-type {\n",
              "        vertical-align: middle;\n",
              "    }\n",
              "\n",
              "    .dataframe tbody tr th {\n",
              "        vertical-align: top;\n",
              "    }\n",
              "\n",
              "    .dataframe thead th {\n",
              "        text-align: right;\n",
              "    }\n",
              "</style>\n",
              "<table border=\"1\" class=\"dataframe\">\n",
              "  <thead>\n",
              "    <tr style=\"text-align: right;\">\n",
              "      <th></th>\n",
              "      <th>team name</th>\n",
              "      <th>impression</th>\n",
              "      <th>click</th>\n",
              "      <th>CPM</th>\n",
              "      <th>CTR</th>\n",
              "      <th>CPC</th>\n",
              "    </tr>\n",
              "  </thead>\n",
              "  <tbody>\n",
              "    <tr>\n",
              "      <th>0</th>\n",
              "      <td>LR_linear</td>\n",
              "      <td>0.0</td>\n",
              "      <td>0.0</td>\n",
              "      <td>NaN</td>\n",
              "      <td>NaN</td>\n",
              "      <td>NaN</td>\n",
              "    </tr>\n",
              "    <tr>\n",
              "      <th>1</th>\n",
              "      <td>RF_linear</td>\n",
              "      <td>0.0</td>\n",
              "      <td>0.0</td>\n",
              "      <td>NaN</td>\n",
              "      <td>NaN</td>\n",
              "      <td>NaN</td>\n",
              "    </tr>\n",
              "    <tr>\n",
              "      <th>2</th>\n",
              "      <td>XGB_linear</td>\n",
              "      <td>0.0</td>\n",
              "      <td>0.0</td>\n",
              "      <td>NaN</td>\n",
              "      <td>NaN</td>\n",
              "      <td>NaN</td>\n",
              "    </tr>\n",
              "    <tr>\n",
              "      <th>3</th>\n",
              "      <td>LR_quadratic</td>\n",
              "      <td>1522.0</td>\n",
              "      <td>3.0</td>\n",
              "      <td>3849.405410</td>\n",
              "      <td>0.001971</td>\n",
              "      <td>1952.931678</td>\n",
              "    </tr>\n",
              "    <tr>\n",
              "      <th>4</th>\n",
              "      <td>RF_quadratic</td>\n",
              "      <td>1370.0</td>\n",
              "      <td>4.0</td>\n",
              "      <td>4554.230506</td>\n",
              "      <td>0.002920</td>\n",
              "      <td>1559.823948</td>\n",
              "    </tr>\n",
              "    <tr>\n",
              "      <th>5</th>\n",
              "      <td>XGB_quadratic</td>\n",
              "      <td>469.0</td>\n",
              "      <td>6.0</td>\n",
              "      <td>13021.696387</td>\n",
              "      <td>0.012793</td>\n",
              "      <td>1017.862601</td>\n",
              "    </tr>\n",
              "    <tr>\n",
              "      <th>6</th>\n",
              "      <td>LR_ORTB</td>\n",
              "      <td>0.0</td>\n",
              "      <td>0.0</td>\n",
              "      <td>NaN</td>\n",
              "      <td>NaN</td>\n",
              "      <td>NaN</td>\n",
              "    </tr>\n",
              "    <tr>\n",
              "      <th>7</th>\n",
              "      <td>RF_ORTB</td>\n",
              "      <td>0.0</td>\n",
              "      <td>0.0</td>\n",
              "      <td>NaN</td>\n",
              "      <td>NaN</td>\n",
              "      <td>NaN</td>\n",
              "    </tr>\n",
              "    <tr>\n",
              "      <th>8</th>\n",
              "      <td>XGB_ORTB</td>\n",
              "      <td>0.0</td>\n",
              "      <td>0.0</td>\n",
              "      <td>NaN</td>\n",
              "      <td>NaN</td>\n",
              "      <td>NaN</td>\n",
              "    </tr>\n",
              "    <tr>\n",
              "      <th>9</th>\n",
              "      <td>validation</td>\n",
              "      <td>17299.0</td>\n",
              "      <td>13.0</td>\n",
              "      <td>0.000751</td>\n",
              "      <td>0.000751</td>\n",
              "      <td>0.001000</td>\n",
              "    </tr>\n",
              "  </tbody>\n",
              "</table>\n",
              "</div>"
            ],
            "text/plain": [
              "       team name  impression  click           CPM       CTR          CPC\n",
              "0      LR_linear         0.0    0.0           NaN       NaN          NaN\n",
              "1      RF_linear         0.0    0.0           NaN       NaN          NaN\n",
              "2     XGB_linear         0.0    0.0           NaN       NaN          NaN\n",
              "3   LR_quadratic      1522.0    3.0   3849.405410  0.001971  1952.931678\n",
              "4   RF_quadratic      1370.0    4.0   4554.230506  0.002920  1559.823948\n",
              "5  XGB_quadratic       469.0    6.0  13021.696387  0.012793  1017.862601\n",
              "6        LR_ORTB         0.0    0.0           NaN       NaN          NaN\n",
              "7        RF_ORTB         0.0    0.0           NaN       NaN          NaN\n",
              "8       XGB_ORTB         0.0    0.0           NaN       NaN          NaN\n",
              "9     validation     17299.0   13.0      0.000751  0.000751     0.001000"
            ]
          },
          "metadata": {
            "tags": []
          },
          "execution_count": 26
        }
      ]
    },
    {
      "metadata": {
        "id": "QKiSbq6ZAFmH",
        "colab_type": "text"
      },
      "cell_type": "markdown",
      "source": [
        "## Predict Bid Price (Test Set)\n",
        "This section uses the best combination ( Logistic Regression + ORTB) to calculate the bid price of test data set.\n",
        "\n",
        "\n",
        "\n",
        "\n",
        "\n"
      ]
    },
    {
      "metadata": {
        "id": "0WyAusGOqK1l",
        "colab_type": "code",
        "colab": {}
      },
      "cell_type": "code",
      "source": [
        "def predict_testset(clf, formula, export=False):\n",
        "    \n",
        "    # import submission file\n",
        "    test_df = pd.read_csv('/content/gdrive/My Drive/Colab Notebooks/AI/data/Group_xx.csv')\n",
        "    \n",
        "    # calculate parameter\n",
        "    w = 10716/2430981 # train.shape[0] = 2430981\n",
        "    \n",
        "    # predict CTR\n",
        "    y_test_proba = clf.fit(X_train,y_train).predict_proba(X_test)\n",
        "    pCTR_test = y_test_proba[:,1]/(y_test_proba[:,1]+(1-y_test_proba[:,1])/w)\n",
        "    \n",
        "    # calculate bid price for test set\n",
        "        # linear bidding formula\n",
        "    if formula == 'linear':\n",
        "        test_df['bidprice'] = 126 * (pCTR_test/avgCTR)\n",
        "        \n",
        "        # quadratic formula\n",
        "    if formula == 'quadratic':\n",
        "        test_df['bidprice'] = 1.25 * 168 * (pCTR_test/avgCTR)**2  # increase the level of bidprice\n",
        "                \n",
        "        # ORTB\n",
        "    if formula == 'ORTB':\n",
        "        test_df['bidprice'] = np.sqrt(20 / 1e-6 * pCTR_test + 20 ** 2) - 20\n",
        "    \n",
        "    # export csv file\n",
        "    if export is True:\n",
        "        test_df.to_csv('/content/gdrive/My Drive/Colab Notebooks/AI/data/result.csv',index=False)\n",
        "    \n",
        "    return test_df"
      ],
      "execution_count": 0,
      "outputs": []
    },
    {
      "metadata": {
        "id": "3O5XNMOaM_C6",
        "colab_type": "code",
        "colab": {}
      },
      "cell_type": "code",
      "source": [
        "test_xgb = predict_testset(clf_xgb,'quadratic', export=True)"
      ],
      "execution_count": 0,
      "outputs": []
    },
    {
      "metadata": {
        "id": "fTcKmw5CukOw",
        "colab_type": "code",
        "outputId": "f7bf5350-9f18-45db-81f1-89cf70018c31",
        "colab": {
          "base_uri": "https://localhost:8080/",
          "height": 195
        }
      },
      "cell_type": "code",
      "source": [
        "test_xgb.head()"
      ],
      "execution_count": 29,
      "outputs": [
        {
          "output_type": "execute_result",
          "data": {
            "text/html": [
              "<div>\n",
              "<style scoped>\n",
              "    .dataframe tbody tr th:only-of-type {\n",
              "        vertical-align: middle;\n",
              "    }\n",
              "\n",
              "    .dataframe tbody tr th {\n",
              "        vertical-align: top;\n",
              "    }\n",
              "\n",
              "    .dataframe thead th {\n",
              "        text-align: right;\n",
              "    }\n",
              "</style>\n",
              "<table border=\"1\" class=\"dataframe\">\n",
              "  <thead>\n",
              "    <tr style=\"text-align: right;\">\n",
              "      <th></th>\n",
              "      <th>bidid</th>\n",
              "      <th>bidprice</th>\n",
              "    </tr>\n",
              "  </thead>\n",
              "  <tbody>\n",
              "    <tr>\n",
              "      <th>0</th>\n",
              "      <td>366c563de7d90feb9d4dab53e795a93fb3157387</td>\n",
              "      <td>277.862732</td>\n",
              "    </tr>\n",
              "    <tr>\n",
              "      <th>1</th>\n",
              "      <td>29167d4caa719788b5a342dbaa25151d53121f80</td>\n",
              "      <td>2839.704102</td>\n",
              "    </tr>\n",
              "    <tr>\n",
              "      <th>2</th>\n",
              "      <td>ff8bc3f4d44a3ea60c5f3a3a8fbe7cd98fb2966e</td>\n",
              "      <td>6.452158</td>\n",
              "    </tr>\n",
              "    <tr>\n",
              "      <th>3</th>\n",
              "      <td>844c2da00d45315f20b748ec131c26ee99a7cbc7</td>\n",
              "      <td>63.359745</td>\n",
              "    </tr>\n",
              "    <tr>\n",
              "      <th>4</th>\n",
              "      <td>c6017f0ad0c44d7d0c9b62583ea863f28941c0ca</td>\n",
              "      <td>55.147121</td>\n",
              "    </tr>\n",
              "  </tbody>\n",
              "</table>\n",
              "</div>"
            ],
            "text/plain": [
              "                                      bidid     bidprice\n",
              "0  366c563de7d90feb9d4dab53e795a93fb3157387   277.862732\n",
              "1  29167d4caa719788b5a342dbaa25151d53121f80  2839.704102\n",
              "2  ff8bc3f4d44a3ea60c5f3a3a8fbe7cd98fb2966e     6.452158\n",
              "3  844c2da00d45315f20b748ec131c26ee99a7cbc7    63.359745\n",
              "4  c6017f0ad0c44d7d0c9b62583ea863f28941c0ca    55.147121"
            ]
          },
          "metadata": {
            "tags": []
          },
          "execution_count": 29
        }
      ]
    },
    {
      "metadata": {
        "id": "TwBiedwYM21b",
        "colab_type": "text"
      },
      "cell_type": "markdown",
      "source": [
        "## Game Theory Based Approaches Experiments\n",
        "This section conducts different approaches to modify the predicted bid price of the test set and compares the results of these approaches in the leaderboard.\n",
        "\n",
        "Approaches List: (some of the approaches have been mentioned and achieved above)\n",
        "1. use predicted results of the original model and formula\n",
        "- only keep the highest 20k bidprice for the predicted results\n",
        "- only keep the highest 60 bidprice for the predicted results and try to use all the budget\n",
        "- magnify the quadratic formula by 1.25 times and use the predicted results\n",
        "- based on results of the fourth approach, set the first 100k bid's bidprice as 0\n",
        "- based on results of the fourth approach, set the bidprice of the highest 20k bidprice as 0 and magnify the rest bidprice by 5 times\n",
        "- ...other approaches will be explained in the corresponding cells"
      ]
    },
    {
      "metadata": {
        "id": "FkXd17N3M1JM",
        "colab_type": "code",
        "colab": {}
      },
      "cell_type": "code",
      "source": [
        "# Bidding Approach 2\n",
        "N = 20 * 1000\n",
        "test_2 = test_xgb.mask(test_xgb.rank(axis=0, method='max', ascending=False) > N, 0)"
      ],
      "execution_count": 0,
      "outputs": []
    },
    {
      "metadata": {
        "id": "z02qbAJ7ymn4",
        "colab_type": "code",
        "colab": {}
      },
      "cell_type": "code",
      "source": [
        "# Bidding Approach 3\n",
        "N = 60\n",
        "test_3 = test_xgb.mask(test_xgb.rank(axis=0, method='max', ascending=False) > N, 0)"
      ],
      "execution_count": 0,
      "outputs": []
    },
    {
      "metadata": {
        "id": "p0NAY7Qshuwz",
        "colab_type": "code",
        "outputId": "ca46f3e2-6b6b-4102-87f9-3ae759f84018",
        "colab": {
          "base_uri": "https://localhost:8080/",
          "height": 348
        }
      },
      "cell_type": "code",
      "source": [
        "# Bidding Approach 5\n",
        "test_5 = test_xgb.copy()\n",
        "test_5.loc[:100001,['bidprice']]=0\n",
        "\n",
        "x_axis=np.arange(303375)\n",
        "plt.figure(figsize=(18,5))\n",
        "plt.plot(x_axis,test_5['bidprice'])"
      ],
      "execution_count": 32,
      "outputs": [
        {
          "output_type": "execute_result",
          "data": {
            "text/plain": [
              "[<matplotlib.lines.Line2D at 0x7f5d85027780>]"
            ]
          },
          "metadata": {
            "tags": []
          },
          "execution_count": 32
        },
        {
          "output_type": "display_data",
          "data": {
            "image/png": "[encoded data removed]",
            "text/plain": [
              "<Figure size 1296x360 with 1 Axes>"
            ]
          },
          "metadata": {
            "tags": []
          }
        }
      ]
    },
    {
      "metadata": {
        "id": "io8-Yl98l9k2",
        "colab_type": "code",
        "colab": {}
      },
      "cell_type": "code",
      "source": [
        "# Bidding Approach 6\n",
        "test_6 = test_xgb.sort_values('bidprice', ascending=False) \n",
        "test_6.bidprice[0:20000] = 0 \n",
        "test_6.bidprice = test_6.bidprice * 5\n",
        "test_6 = test_6.sort_index()"
      ],
      "execution_count": 0,
      "outputs": []
    },
    {
      "metadata": {
        "id": "qO8_N33d3Ien",
        "colab_type": "code",
        "colab": {}
      },
      "cell_type": "code",
      "source": [
        "# Bidding Approach 7: only keep the 20k to 40k highest bidprice and multiply by 5\n",
        "test_7 = test_xgb.sort_values('bidprice', ascending=False) \n",
        "test_7.bidprice[0:20000] = 0 \n",
        "test_7.bidprice[40000:] = 0\n",
        "test_7 = test_7.sort_index()\n",
        "test_7.bidprice = test_7.bidprice * 5"
      ],
      "execution_count": 0,
      "outputs": []
    },
    {
      "metadata": {
        "id": "0DBnw4yU4dcW",
        "colab_type": "code",
        "colab": {}
      },
      "cell_type": "code",
      "source": [
        "# Bidding Approach 8: only keep the 50k to 120k highest bidprice and multiply by 5\n",
        "test_8 = test_xgb.sort_values('bidprice', ascending=False) \n",
        "test_8.bidprice[0:50000] = 0 \n",
        "test_8.bidprice[120000:] = 0\n",
        "test_8 = test_8.sort_index()\n",
        "test_8.bidprice = test_8.bidprice * 5"
      ],
      "execution_count": 0,
      "outputs": []
    },
    {
      "metadata": {
        "id": "m3zBpiMY5Ci2",
        "colab_type": "code",
        "colab": {}
      },
      "cell_type": "code",
      "source": [
        "# Bidding Approach 9: set the 220k highest bidprice as 0 and keep the rest bidprice, multiply by 5\n",
        "test_9 = test_xgb.sort_values('bidprice', ascending=False) \n",
        "test_9.bidprice[0:220000] = 0 \n",
        "test_9.bidprice = test_9.bidprice * 5\n",
        "test_9 = test_9.sort_index()"
      ],
      "execution_count": 0,
      "outputs": []
    },
    {
      "metadata": {
        "id": "M4Nr8lLN8t4B",
        "colab_type": "code",
        "colab": {}
      },
      "cell_type": "code",
      "source": [
        "# Bidding Approach 10: only keep the 100k to 180k highest bidprice and multiply by 6\n",
        "test_10 = test_xgb.sort_values('bidprice', ascending=False) \n",
        "test_10.bidprice[0:100000] = 0 \n",
        "test_10.bidprice[180000:] = 0\n",
        "test_10 = test_10.sort_index()\n",
        "test_10.bidprice = test_10.bidprice * 6"
      ],
      "execution_count": 0,
      "outputs": []
    },
    {
      "metadata": {
        "id": "qGDir3N0_Hs1",
        "colab_type": "code",
        "colab": {}
      },
      "cell_type": "code",
      "source": [
        "# Bidding Approach 11: only keep the 20k to 120k highest bidprice and multiply by 5\n",
        "test_11 = test_xgb.sort_values('bidprice', ascending=False) \n",
        "test_11.bidprice[0:20000] = 0 \n",
        "test_11.bidprice[120000:] = 0\n",
        "test_11 = test_11.sort_index()\n",
        "test_11.bidprice = test_11.bidprice * 5"
      ],
      "execution_count": 0,
      "outputs": []
    },
    {
      "metadata": {
        "id": "DfhD9B5U9GbH",
        "colab_type": "code",
        "colab": {}
      },
      "cell_type": "code",
      "source": [
        "# Bidding Approach 12: only keep the 50k to 120k highest bidprice and multiply by 10\n",
        "test_12 = test_xgb.sort_values('bidprice', ascending=False) \n",
        "test_12.bidprice[0:50000] = 0 \n",
        "test_12.bidprice[120000:] = 0\n",
        "test_12 = test_12.sort_index()\n",
        "test_12.bidprice = test_12.bidprice * 10"
      ],
      "execution_count": 0,
      "outputs": []
    },
    {
      "metadata": {
        "id": "98eFlsdMA-Fk",
        "colab_type": "code",
        "colab": {}
      },
      "cell_type": "code",
      "source": [
        "test_12.to_csv('/content/gdrive/My Drive/Colab Notebooks/AI/data/result_14.csv')"
      ],
      "execution_count": 0,
      "outputs": []
    },
    {
      "metadata": {
        "id": "Qi9aO2NHBA3Z",
        "colab_type": "code",
        "colab": {}
      },
      "cell_type": "code",
      "source": [
        "# Bidding Approach 13: only keep the 80k to 120k highest bidprice and multiply by 5\n",
        "test_13 = test_xgb.sort_values('bidprice', ascending=False) \n",
        "test_13.bidprice[0:80000] = 0 \n",
        "test_13.bidprice[120000:] = 0\n",
        "test_13 = test_13.sort_index()\n",
        "test_13.bidprice = test_13.bidprice * 5"
      ],
      "execution_count": 0,
      "outputs": []
    },
    {
      "metadata": {
        "id": "ljkL7lfyCe0y",
        "colab_type": "code",
        "colab": {}
      },
      "cell_type": "code",
      "source": [
        "test_13.to_csv('/content/gdrive/My Drive/Colab Notebooks/AI/data/result_15.csv')"
      ],
      "execution_count": 0,
      "outputs": []
    },
    {
      "metadata": {
        "id": "SKoIEF0aCjCN",
        "colab_type": "code",
        "colab": {}
      },
      "cell_type": "code",
      "source": [
        "# Bidding Approach 14: only keep the 80k to 120k highest bidprice and multiply by 11\n",
        "test_14 = test_xgb.sort_values('bidprice', ascending=False) \n",
        "test_14.bidprice[0:80000] = 0 \n",
        "test_14.bidprice[120000:] = 0\n",
        "test_14 = test_14.sort_index()\n",
        "test_14.bidprice = test_14.bidprice * 11"
      ],
      "execution_count": 0,
      "outputs": []
    },
    {
      "metadata": {
        "id": "f3HJPu88FqDT",
        "colab_type": "code",
        "colab": {}
      },
      "cell_type": "code",
      "source": [
        "test_14.to_csv('/content/gdrive/My Drive/Colab Notebooks/AI/data/result_16.csv')"
      ],
      "execution_count": 0,
      "outputs": []
    },
    {
      "metadata": {
        "id": "D1su1vImFtZi",
        "colab_type": "code",
        "colab": {}
      },
      "cell_type": "code",
      "source": [
        ""
      ],
      "execution_count": 0,
      "outputs": []
    }
  ]
}