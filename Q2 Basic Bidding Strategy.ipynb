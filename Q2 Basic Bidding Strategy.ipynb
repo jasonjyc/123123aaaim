{
 "cells": [
  {
   "cell_type": "markdown",
   "metadata": {},
   "source": [
    "## Constant bidding"
   ]
  },
  {
   "cell_type": "code",
   "execution_count": 2,
   "metadata": {},
   "outputs": [],
   "source": [
    "import os\n",
    "import pandas as pd\n",
    "import numpy as np\n",
    "import time\n",
    "import matplotlib.pyplot as plt\n",
    "from random import randint\n",
    "\n",
    "%matplotlib inline"
   ]
  },
  {
   "cell_type": "code",
   "execution_count": 10,
   "metadata": {},
   "outputs": [],
   "source": [
    "train = pd.read_csv('./we_data/train.csv')\n",
    "validation = pd.read_csv('./we_data/validation.csv')"
   ]
  },
  {
   "cell_type": "code",
   "execution_count": 37,
   "metadata": {},
   "outputs": [],
   "source": [
    "test = pd.read_csv('./we_data/test.csv')"
   ]
  },
  {
   "cell_type": "code",
   "execution_count": 38,
   "metadata": {
    "scrolled": true
   },
   "outputs": [
    {
     "data": {
      "text/plain": [
       "(303375, 22)"
      ]
     },
     "execution_count": 38,
     "metadata": {},
     "output_type": "execute_result"
    }
   ],
   "source": [
    "test.shape"
   ]
  },
  {
   "cell_type": "code",
   "execution_count": 11,
   "metadata": {
    "scrolled": true
   },
   "outputs": [
    {
     "data": {
      "text/html": [
       "<div>\n",
       "<style scoped>\n",
       "    .dataframe tbody tr th:only-of-type {\n",
       "        vertical-align: middle;\n",
       "    }\n",
       "\n",
       "    .dataframe tbody tr th {\n",
       "        vertical-align: top;\n",
       "    }\n",
       "\n",
       "    .dataframe thead th {\n",
       "        text-align: right;\n",
       "    }\n",
       "</style>\n",
       "<table border=\"1\" class=\"dataframe\">\n",
       "  <thead>\n",
       "    <tr style=\"text-align: right;\">\n",
       "      <th></th>\n",
       "      <th>click</th>\n",
       "      <th>weekday</th>\n",
       "      <th>hour</th>\n",
       "      <th>bidid</th>\n",
       "      <th>userid</th>\n",
       "      <th>useragent</th>\n",
       "      <th>IP</th>\n",
       "      <th>region</th>\n",
       "      <th>city</th>\n",
       "      <th>adexchange</th>\n",
       "      <th>...</th>\n",
       "      <th>slotheight</th>\n",
       "      <th>slotvisibility</th>\n",
       "      <th>slotformat</th>\n",
       "      <th>slotprice</th>\n",
       "      <th>creative</th>\n",
       "      <th>bidprice</th>\n",
       "      <th>payprice</th>\n",
       "      <th>keypage</th>\n",
       "      <th>advertiser</th>\n",
       "      <th>usertag</th>\n",
       "    </tr>\n",
       "  </thead>\n",
       "  <tbody>\n",
       "    <tr>\n",
       "      <th>0</th>\n",
       "      <td>0</td>\n",
       "      <td>5</td>\n",
       "      <td>22</td>\n",
       "      <td>b7bea80521fdecd95d2d761a38c91c3f09618066</td>\n",
       "      <td>2e880fb7d690cf7377b2e42e701728e3f3c0e4c1</td>\n",
       "      <td>windows_ie</td>\n",
       "      <td>125.37.175.*</td>\n",
       "      <td>2</td>\n",
       "      <td>2</td>\n",
       "      <td>2.0</td>\n",
       "      <td>...</td>\n",
       "      <td>200</td>\n",
       "      <td>2</td>\n",
       "      <td>0</td>\n",
       "      <td>5</td>\n",
       "      <td>a4f763f78ef3eedfe614263b94a8924e</td>\n",
       "      <td>238</td>\n",
       "      <td>5</td>\n",
       "      <td>0f951a030abdaedd733ee8d114ce2944</td>\n",
       "      <td>3427</td>\n",
       "      <td>NaN</td>\n",
       "    </tr>\n",
       "    <tr>\n",
       "      <th>1</th>\n",
       "      <td>0</td>\n",
       "      <td>1</td>\n",
       "      <td>20</td>\n",
       "      <td>4f51205475678f5a124bc76b2c54163bf8eaa7eb</td>\n",
       "      <td>3a1fe01360ff8100e7d006b83b77a3e4c01d928c</td>\n",
       "      <td>windows_chrome</td>\n",
       "      <td>171.36.92.*</td>\n",
       "      <td>238</td>\n",
       "      <td>239</td>\n",
       "      <td>1.0</td>\n",
       "      <td>...</td>\n",
       "      <td>250</td>\n",
       "      <td>FourthView</td>\n",
       "      <td>Na</td>\n",
       "      <td>0</td>\n",
       "      <td>10722</td>\n",
       "      <td>294</td>\n",
       "      <td>23</td>\n",
       "      <td>NaN</td>\n",
       "      <td>2821</td>\n",
       "      <td>NaN</td>\n",
       "    </tr>\n",
       "    <tr>\n",
       "      <th>2</th>\n",
       "      <td>0</td>\n",
       "      <td>3</td>\n",
       "      <td>13</td>\n",
       "      <td>b604e3fd054a658ab7ced4285ebf2ef54d2bd890</td>\n",
       "      <td>801d18a056b6fe6b06a794aef17fb0d6daff2414</td>\n",
       "      <td>windows_ie</td>\n",
       "      <td>59.46.106.*</td>\n",
       "      <td>40</td>\n",
       "      <td>41</td>\n",
       "      <td>2.0</td>\n",
       "      <td>...</td>\n",
       "      <td>250</td>\n",
       "      <td>2</td>\n",
       "      <td>0</td>\n",
       "      <td>5</td>\n",
       "      <td>798b2d49952d77f1eace9f23c210d0b5</td>\n",
       "      <td>238</td>\n",
       "      <td>24</td>\n",
       "      <td>0f951a030abdaedd733ee8d114ce2944</td>\n",
       "      <td>3427</td>\n",
       "      <td>10052,10006,13866,10110</td>\n",
       "    </tr>\n",
       "  </tbody>\n",
       "</table>\n",
       "<p>3 rows × 25 columns</p>\n",
       "</div>"
      ],
      "text/plain": [
       "   click  weekday  hour                                     bidid  \\\n",
       "0      0        5    22  b7bea80521fdecd95d2d761a38c91c3f09618066   \n",
       "1      0        1    20  4f51205475678f5a124bc76b2c54163bf8eaa7eb   \n",
       "2      0        3    13  b604e3fd054a658ab7ced4285ebf2ef54d2bd890   \n",
       "\n",
       "                                     userid       useragent            IP  \\\n",
       "0  2e880fb7d690cf7377b2e42e701728e3f3c0e4c1      windows_ie  125.37.175.*   \n",
       "1  3a1fe01360ff8100e7d006b83b77a3e4c01d928c  windows_chrome   171.36.92.*   \n",
       "2  801d18a056b6fe6b06a794aef17fb0d6daff2414      windows_ie   59.46.106.*   \n",
       "\n",
       "   region  city  adexchange           ...            slotheight  \\\n",
       "0       2     2         2.0           ...                   200   \n",
       "1     238   239         1.0           ...                   250   \n",
       "2      40    41         2.0           ...                   250   \n",
       "\n",
       "  slotvisibility  slotformat slotprice                          creative  \\\n",
       "0              2           0         5  a4f763f78ef3eedfe614263b94a8924e   \n",
       "1     FourthView          Na         0                             10722   \n",
       "2              2           0         5  798b2d49952d77f1eace9f23c210d0b5   \n",
       "\n",
       "   bidprice payprice                           keypage  advertiser  \\\n",
       "0       238        5  0f951a030abdaedd733ee8d114ce2944        3427   \n",
       "1       294       23                               NaN        2821   \n",
       "2       238       24  0f951a030abdaedd733ee8d114ce2944        3427   \n",
       "\n",
       "                   usertag  \n",
       "0                      NaN  \n",
       "1                      NaN  \n",
       "2  10052,10006,13866,10110  \n",
       "\n",
       "[3 rows x 25 columns]"
      ]
     },
     "execution_count": 11,
     "metadata": {},
     "output_type": "execute_result"
    }
   ],
   "source": [
    "train.head(3)"
   ]
  },
  {
   "cell_type": "code",
   "execution_count": 4,
   "metadata": {
    "scrolled": false
   },
   "outputs": [],
   "source": [
    "# train.columns"
   ]
  },
  {
   "cell_type": "code",
   "execution_count": 3,
   "metadata": {
    "scrolled": true
   },
   "outputs": [],
   "source": [
    "# validation.columns"
   ]
  },
  {
   "cell_type": "code",
   "execution_count": 76,
   "metadata": {
    "scrolled": true
   },
   "outputs": [],
   "source": [
    "# validation.head()"
   ]
  },
  {
   "cell_type": "code",
   "execution_count": null,
   "metadata": {},
   "outputs": [],
   "source": []
  },
  {
   "cell_type": "code",
   "execution_count": 136,
   "metadata": {},
   "outputs": [
    {
     "data": {
      "text/plain": [
       "(303925, 25)"
      ]
     },
     "execution_count": 136,
     "metadata": {},
     "output_type": "execute_result"
    }
   ],
   "source": [
    "validation.shape"
   ]
  },
  {
   "cell_type": "code",
   "execution_count": 141,
   "metadata": {},
   "outputs": [],
   "source": [
    "def constant_bidding(constant):\n",
    "    impression = 0.0; clicks = 0\n",
    "    cost = 0.0; budget = 6250000\n",
    "        \n",
    "    for click, pay_price in validation[['click','payprice']].values:\n",
    "        if constant > pay_price:\n",
    "            impression += 1\n",
    "            clicks += click\n",
    "            cost += pay_price\n",
    "        if cost >= budget:\n",
    "            break\n",
    "    return impression, clicks, cost"
   ]
  },
  {
   "cell_type": "code",
   "execution_count": 142,
   "metadata": {},
   "outputs": [
    {
     "name": "stdout",
     "output_type": "stream",
     "text": [
      "1\n",
      "11\n"
     ]
    },
    {
     "ename": "KeyboardInterrupt",
     "evalue": "",
     "output_type": "error",
     "traceback": [
      "\u001b[1;31m---------------------------------------------------------------------------\u001b[0m",
      "\u001b[1;31mKeyboardInterrupt\u001b[0m                         Traceback (most recent call last)",
      "\u001b[1;32m<ipython-input-142-be69721a7553>\u001b[0m in \u001b[0;36m<module>\u001b[1;34m()\u001b[0m\n\u001b[0;32m      7\u001b[0m \u001b[1;32mfor\u001b[0m \u001b[0mcon\u001b[0m \u001b[1;32min\u001b[0m \u001b[0mconst\u001b[0m\u001b[1;33m[\u001b[0m\u001b[1;34m'constants'\u001b[0m\u001b[1;33m]\u001b[0m\u001b[1;33m:\u001b[0m\u001b[1;33m\u001b[0m\u001b[0m\n\u001b[0;32m      8\u001b[0m     \u001b[0mprint\u001b[0m\u001b[1;33m(\u001b[0m\u001b[0mcon\u001b[0m\u001b[1;33m)\u001b[0m\u001b[1;33m\u001b[0m\u001b[0m\n\u001b[1;32m----> 9\u001b[1;33m     \u001b[1;33m[\u001b[0m\u001b[0mimps\u001b[0m\u001b[1;33m,\u001b[0m \u001b[0mclicks\u001b[0m\u001b[1;33m,\u001b[0m \u001b[0mcost\u001b[0m\u001b[1;33m]\u001b[0m \u001b[1;33m=\u001b[0m \u001b[0mconstant_bidding\u001b[0m\u001b[1;33m(\u001b[0m\u001b[0mcon\u001b[0m\u001b[1;33m)\u001b[0m\u001b[1;33m\u001b[0m\u001b[0m\n\u001b[0m\u001b[0;32m     10\u001b[0m     \u001b[0mim\u001b[0m\u001b[1;33m.\u001b[0m\u001b[0mappend\u001b[0m\u001b[1;33m(\u001b[0m\u001b[0mimps\u001b[0m\u001b[1;33m)\u001b[0m\u001b[1;33m\u001b[0m\u001b[0m\n\u001b[0;32m     11\u001b[0m     \u001b[0mclks\u001b[0m\u001b[1;33m.\u001b[0m\u001b[0mappend\u001b[0m\u001b[1;33m(\u001b[0m\u001b[0mclicks\u001b[0m\u001b[1;33m)\u001b[0m\u001b[1;33m\u001b[0m\u001b[0m\n",
      "\u001b[1;32m<ipython-input-141-adf0d6c94b09>\u001b[0m in \u001b[0;36mconstant_bidding\u001b[1;34m(constant)\u001b[0m\n\u001b[0;32m      4\u001b[0m \u001b[1;33m\u001b[0m\u001b[0m\n\u001b[0;32m      5\u001b[0m     \u001b[1;32mfor\u001b[0m \u001b[0mclick\u001b[0m\u001b[1;33m,\u001b[0m \u001b[0mpay_price\u001b[0m \u001b[1;32min\u001b[0m \u001b[0mvalidation\u001b[0m\u001b[1;33m[\u001b[0m\u001b[1;33m[\u001b[0m\u001b[1;34m'click'\u001b[0m\u001b[1;33m,\u001b[0m\u001b[1;34m'payprice'\u001b[0m\u001b[1;33m]\u001b[0m\u001b[1;33m]\u001b[0m\u001b[1;33m.\u001b[0m\u001b[0mvalues\u001b[0m\u001b[1;33m:\u001b[0m\u001b[1;33m\u001b[0m\u001b[0m\n\u001b[1;32m----> 6\u001b[1;33m         \u001b[1;32mif\u001b[0m \u001b[0mconstant\u001b[0m \u001b[1;33m>\u001b[0m \u001b[0mpay_price\u001b[0m\u001b[1;33m:\u001b[0m\u001b[1;33m\u001b[0m\u001b[0m\n\u001b[0m\u001b[0;32m      7\u001b[0m             \u001b[0mimpression\u001b[0m \u001b[1;33m+=\u001b[0m \u001b[1;36m1\u001b[0m\u001b[1;33m\u001b[0m\u001b[0m\n\u001b[0;32m      8\u001b[0m             \u001b[0mclicks\u001b[0m \u001b[1;33m+=\u001b[0m \u001b[0mclick\u001b[0m\u001b[1;33m\u001b[0m\u001b[0m\n",
      "\u001b[1;31mKeyboardInterrupt\u001b[0m: "
     ]
    }
   ],
   "source": [
    "const = pd.DataFrame()\n",
    "const['constants'] = np.arange(1,302,10)\n",
    "\n",
    "im = []\n",
    "clks = []\n",
    "ct = []\n",
    "for con in const['constants']:\n",
    "    print('const', con)\n",
    "    [imps, clicks, cost] = constant_bidding(con)\n",
    "    im.append(imps)\n",
    "    clks.append(clicks)\n",
    "    ct.append(cost)\n",
    "const['imps_won'] = im\n",
    "const.imps_won = const.imps_won.astype(int)\n",
    "const['total_spend'] = ct\n",
    "const['clicks'] = clks\n",
    "const['CTR'] = (const.clicks/const.imps_won * 100).round(4).astype(str)\n",
    "const['CPM'] = (const.total_spend/const.imps_won * 1000).round(2).astype(str)\n",
    "const['CPC'] = (const.total_spend/const.clicks).round(2).astype(str)"
   ]
  },
  {
   "cell_type": "code",
   "execution_count": 139,
   "metadata": {
    "scrolled": true
   },
   "outputs": [
    {
     "data": {
      "text/plain": [
       "71"
      ]
     },
     "execution_count": 139,
     "metadata": {},
     "output_type": "execute_result"
    }
   ],
   "source": [
    "# optimal bidding price; for max clicks\n",
    "const.constants[(const.clicks).idxmax()]"
   ]
  },
  {
   "cell_type": "code",
   "execution_count": 130,
   "metadata": {
    "scrolled": true
   },
   "outputs": [
    {
     "data": {
      "text/plain": [
       "Text(0,0.5,'clicks')"
      ]
     },
     "execution_count": 130,
     "metadata": {},
     "output_type": "execute_result"
    },
    {
     "data": {
      "image/png": "[encoded data removed]",
      "text/plain": [
       "<matplotlib.figure.Figure at 0x28e8348cf28>"
      ]
     },
     "metadata": {},
     "output_type": "display_data"
    }
   ],
   "source": [
    "z = const[['clicks','constants']]\n",
    "\n",
    "fig, ax1 = plt.subplots()\n",
    "ax1.plot(z.constants,z.clicks)\n",
    "ax1.set_xlabel('bidding constants')\n",
    "ax1.set_ylabel('clicks', )"
   ]
  },
  {
   "cell_type": "markdown",
   "metadata": {},
   "source": [
    "### Using validation set"
   ]
  },
  {
   "cell_type": "code",
   "execution_count": 16,
   "metadata": {},
   "outputs": [
    {
     "data": {
      "text/plain": [
       "[Text(0.5,0,'Constant bidding price')]"
      ]
     },
     "execution_count": 16,
     "metadata": {},
     "output_type": "execute_result"
    },
    {
     "data": {
      "image/png": "[encoded data removed]",
      "text/plain": [
       "<matplotlib.figure.Figure at 0x1b9b1359908>"
      ]
     },
     "metadata": {},
     "output_type": "display_data"
    }
   ],
   "source": [
    "const = pd.DataFrame()\n",
    "const['constants'] = np.arange(1,301, 10)\n",
    "\n",
    "impression_list = []\n",
    "click_list = []\n",
    "cost_list = []\n",
    "CPC_list = []; CPM_list = []; CTR_list = []\n",
    "\n",
    "# shuffle training set\n",
    "# validation_shuffle = validation.sample(frac=1, random_state = 12).reset_index(drop=True)\n",
    "\n",
    "for c in const['constants']:\n",
    "    [impression, click, cost, CPC, CPM, CTR] = constant_bidding(c, validation_shuffle)\n",
    "    impression_list.append(impression)\n",
    "    click_list.append(click)\n",
    "    cost_list.append(cost)\n",
    "    CPC_list.append(CPC)\n",
    "    CPM_list.append(CPM)\n",
    "    CTR_list.append(CTR)\n",
    "    \n",
    "    \n",
    "const['imps_won'] = impression_list\n",
    "const.imps_won = const.imps_won.astype(int)\n",
    "const['total_spend'] = cost_list\n",
    "const['clicks'] = click_list\n",
    "\n",
    "const['CTR'] = CTR_list\n",
    "const['CPM'] = CPM_list\n",
    "const['CPC'] = CPC_list\n",
    "\n",
    "\n",
    "# draw graph - validation set\n",
    "metrics = [const.total_spend, const.imps_won, const.clicks, const.CPC, const.CPM, const.CTR,]\n",
    "metricNames = ['cost', 'Impressions','Clicks','CPC','CPM','CTR']\n",
    "\n",
    "f, axarr = plt.subplots(len(metrics), sharex=True, figsize=(7, 25))\n",
    "\n",
    "i=0\n",
    "for metric in metrics:\n",
    "    axarr[i].plot(const['constants'] , metric)\n",
    "    axarr[i].set_title(metricNames[i])\n",
    "    i += 1\n",
    "\n",
    "axarr[i-1].set(xlabel=\"Constant bidding price\")"
   ]
  },
  {
   "cell_type": "code",
   "execution_count": 132,
   "metadata": {},
   "outputs": [],
   "source": [
    "# shuffle validation set\n",
    "# validation_shuffle = validation.sample(frac=1, random_state = 12).reset_index(drop=True)\n",
    "# [impression, click, cost, CPC, CPM, CTR] = constant_bidding( validation)"
   ]
  },
  {
   "cell_type": "code",
   "execution_count": 19,
   "metadata": {
    "scrolled": false
   },
   "outputs": [
    {
     "data": {
      "text/plain": [
       "71"
      ]
     },
     "execution_count": 19,
     "metadata": {},
     "output_type": "execute_result"
    }
   ],
   "source": [
    "# optimal bidding price; for max click\n",
    "const.constants[(const.clicks).idxmax()]"
   ]
  },
  {
   "cell_type": "code",
   "execution_count": 20,
   "metadata": {
    "scrolled": true
   },
   "outputs": [
    {
     "data": {
      "text/plain": [
       "162136"
      ]
     },
     "execution_count": 20,
     "metadata": {},
     "output_type": "execute_result"
    }
   ],
   "source": [
    "# impression\n",
    "const.imps_won[(const.clicks).idxmax()]"
   ]
  },
  {
   "cell_type": "code",
   "execution_count": 21,
   "metadata": {
    "scrolled": true
   },
   "outputs": [
    {
     "data": {
      "text/plain": [
       "0.04379039818424039"
      ]
     },
     "execution_count": 21,
     "metadata": {},
     "output_type": "execute_result"
    }
   ],
   "source": [
    "# CTR\n",
    "const.CTR[(const.clicks).idxmax()]"
   ]
  },
  {
   "cell_type": "code",
   "execution_count": 22,
   "metadata": {
    "scrolled": false
   },
   "outputs": [
    {
     "data": {
      "text/plain": [
       "38548.08309073863"
      ]
     },
     "execution_count": 22,
     "metadata": {},
     "output_type": "execute_result"
    }
   ],
   "source": [
    "# CPM\n",
    "const.CPM[(const.clicks).idxmax()]"
   ]
  },
  {
   "cell_type": "code",
   "execution_count": 23,
   "metadata": {
    "scrolled": true
   },
   "outputs": [
    {
     "data": {
      "text/plain": [
       "88028.61971830986"
      ]
     },
     "execution_count": 23,
     "metadata": {},
     "output_type": "execute_result"
    }
   ],
   "source": [
    "# CPC\n",
    "const.CPC[(const.clicks).idxmax()]"
   ]
  },
  {
   "cell_type": "markdown",
   "metadata": {},
   "source": [
    "## Random bidding"
   ]
  },
  {
   "cell_type": "code",
   "execution_count": 17,
   "metadata": {},
   "outputs": [],
   "source": [
    "import os\n",
    "import numpy as np\n",
    "import pandas as pd\n",
    "import matplotlib.pyplot as plt\n",
    "from time import time\n",
    "from mpl_toolkits.mplot3d import Axes3D"
   ]
  },
  {
   "cell_type": "code",
   "execution_count": 43,
   "metadata": {
    "scrolled": true
   },
   "outputs": [
    {
     "data": {
      "text/plain": [
       "((303375, 22), (303925, 25))"
      ]
     },
     "execution_count": 43,
     "metadata": {},
     "output_type": "execute_result"
    }
   ],
   "source": [
    "test.shape, validation.shape"
   ]
  },
  {
   "cell_type": "code",
   "execution_count": 44,
   "metadata": {
    "scrolled": true
   },
   "outputs": [
    {
     "data": {
      "text/plain": [
       "(0, 300)"
      ]
     },
     "execution_count": 44,
     "metadata": {},
     "output_type": "execute_result"
    }
   ],
   "source": [
    "# set bidding range: 0 -> 300\n",
    "minBid = train['payprice'].min()\n",
    "maxBid = train['payprice'].max()\n",
    "\n",
    "minBid, maxBid"
   ]
  },
  {
   "cell_type": "code",
   "execution_count": 45,
   "metadata": {},
   "outputs": [],
   "source": [
    "# doing\n",
    "def singleAgent_randomBiding(df, lower_bound, upper_bound, budget=6250*1000, num=1):\n",
    "    N =  df.shape[0]\n",
    "    bid = pd.Series(np.random.randint(lower_bound, upper_bound, N))\n",
    "    df = df[['bidid', 'payprice', 'click']][df['payprice'] <= bid].copy()\n",
    "\n",
    "    results = np.zeros((num, 6))\n",
    "    for i in range(num):\n",
    "        # reshuffle data\n",
    "        df = df.sample(frac=1)\n",
    "        \n",
    "        df['total_spend'] = df['payprice'].cumsum() # cumulative spending        \n",
    "        \n",
    "        # if within budget\n",
    "        final_df = df[df['total_spend'] <= budget]\n",
    "        click = final_df['click'].sum()\n",
    "        impression = final_df['bidid'].count()\n",
    "        totalCPM = final_df['payprice'].sum()\n",
    "        spend = totalCPM / 1000\n",
    "\n",
    "        if impression > 0:\n",
    "            CTR = click / impression\n",
    "            CPM = totalCPM / impression\n",
    "        else:\n",
    "            CTR = np.NaN\n",
    "            CPM = np.NaN\n",
    "\n",
    "        if click > 0:\n",
    "            CPC = spend / click\n",
    "        else:\n",
    "            CPC = np.NaN\n",
    "        \n",
    "        results[i,:] = np.array([spend, impression, click, CTR, CPM, CPC])\n",
    "        \n",
    "    res = np.mean(results, axis=0)\n",
    "    \n",
    "    # unpack result\n",
    "    spend, imp, click, CTR, CPM, CPC = res.T\n",
    "    return spend, imp, click, CTR, CPM, CPC"
   ]
  },
  {
   "cell_type": "code",
   "execution_count": 46,
   "metadata": {},
   "outputs": [],
   "source": [
    "spend, imp, click, ctr, cpm, cpc = singleAgent_randomBiding(train, minBid, maxBid )"
   ]
  },
  {
   "cell_type": "code",
   "execution_count": 23,
   "metadata": {
    "code_folding": [],
    "scrolled": true
   },
   "outputs": [
    {
     "name": "stdout",
     "output_type": "stream",
     "text": [
      "0\n",
      "20\n",
      "40\n",
      "60\n",
      "80\n",
      "100\n",
      "120\n",
      "140\n",
      "160\n",
      "180\n",
      "200\n",
      "220\n",
      "240\n",
      "260\n",
      "280\n",
      "300\n"
     ]
    }
   ],
   "source": [
    "metric = []\n",
    "step = 20\n",
    "a = range(minBid, maxBid+1, step) # 0 - 300\n",
    "b = range(minBid, maxBid+1, step)\n",
    "\n",
    "for lower in a:\n",
    "    print(lower)\n",
    "    \n",
    "    for upper in b:\n",
    "        if upper > lower:\n",
    "            spend, imp, click, ctr, cpm, cpc = singleAgent_randomBiding(train, lower, upper)\n",
    "            metric.append(np.hstack((lower, upper, click)))\n",
    "            \n",
    "metric = pd.DataFrame(metric, columns=['lower','upper', 'click'])"
   ]
  },
  {
   "cell_type": "code",
   "execution_count": 28,
   "metadata": {
    "collapsed": true
   },
   "outputs": [
    {
     "data": {
      "text/html": [
       "<div>\n",
       "<style scoped>\n",
       "    .dataframe tbody tr th:only-of-type {\n",
       "        vertical-align: middle;\n",
       "    }\n",
       "\n",
       "    .dataframe tbody tr th {\n",
       "        vertical-align: top;\n",
       "    }\n",
       "\n",
       "    .dataframe thead th {\n",
       "        text-align: right;\n",
       "    }\n",
       "</style>\n",
       "<table border=\"1\" class=\"dataframe\">\n",
       "  <thead>\n",
       "    <tr style=\"text-align: right;\">\n",
       "      <th></th>\n",
       "      <th>lower</th>\n",
       "      <th>upper</th>\n",
       "      <th>click</th>\n",
       "    </tr>\n",
       "  </thead>\n",
       "  <tbody>\n",
       "    <tr>\n",
       "      <th>50</th>\n",
       "      <td>60.0</td>\n",
       "      <td>240.0</td>\n",
       "      <td>67.0</td>\n",
       "    </tr>\n",
       "    <tr>\n",
       "      <th>51</th>\n",
       "      <td>60.0</td>\n",
       "      <td>260.0</td>\n",
       "      <td>67.0</td>\n",
       "    </tr>\n",
       "    <tr>\n",
       "      <th>52</th>\n",
       "      <td>60.0</td>\n",
       "      <td>280.0</td>\n",
       "      <td>68.0</td>\n",
       "    </tr>\n",
       "    <tr>\n",
       "      <th>53</th>\n",
       "      <td>60.0</td>\n",
       "      <td>300.0</td>\n",
       "      <td>58.0</td>\n",
       "    </tr>\n",
       "    <tr>\n",
       "      <th>54</th>\n",
       "      <td>80.0</td>\n",
       "      <td>100.0</td>\n",
       "      <td>67.0</td>\n",
       "    </tr>\n",
       "    <tr>\n",
       "      <th>55</th>\n",
       "      <td>80.0</td>\n",
       "      <td>120.0</td>\n",
       "      <td>77.0</td>\n",
       "    </tr>\n",
       "    <tr>\n",
       "      <th>56</th>\n",
       "      <td>80.0</td>\n",
       "      <td>140.0</td>\n",
       "      <td>82.0</td>\n",
       "    </tr>\n",
       "    <tr>\n",
       "      <th>57</th>\n",
       "      <td>80.0</td>\n",
       "      <td>160.0</td>\n",
       "      <td>74.0</td>\n",
       "    </tr>\n",
       "    <tr>\n",
       "      <th>58</th>\n",
       "      <td>80.0</td>\n",
       "      <td>180.0</td>\n",
       "      <td>63.0</td>\n",
       "    </tr>\n",
       "    <tr>\n",
       "      <th>59</th>\n",
       "      <td>80.0</td>\n",
       "      <td>200.0</td>\n",
       "      <td>66.0</td>\n",
       "    </tr>\n",
       "    <tr>\n",
       "      <th>60</th>\n",
       "      <td>80.0</td>\n",
       "      <td>220.0</td>\n",
       "      <td>68.0</td>\n",
       "    </tr>\n",
       "    <tr>\n",
       "      <th>61</th>\n",
       "      <td>80.0</td>\n",
       "      <td>240.0</td>\n",
       "      <td>71.0</td>\n",
       "    </tr>\n",
       "    <tr>\n",
       "      <th>62</th>\n",
       "      <td>80.0</td>\n",
       "      <td>260.0</td>\n",
       "      <td>61.0</td>\n",
       "    </tr>\n",
       "    <tr>\n",
       "      <th>63</th>\n",
       "      <td>80.0</td>\n",
       "      <td>280.0</td>\n",
       "      <td>54.0</td>\n",
       "    </tr>\n",
       "    <tr>\n",
       "      <th>64</th>\n",
       "      <td>80.0</td>\n",
       "      <td>300.0</td>\n",
       "      <td>58.0</td>\n",
       "    </tr>\n",
       "    <tr>\n",
       "      <th>65</th>\n",
       "      <td>100.0</td>\n",
       "      <td>120.0</td>\n",
       "      <td>85.0</td>\n",
       "    </tr>\n",
       "    <tr>\n",
       "      <th>66</th>\n",
       "      <td>100.0</td>\n",
       "      <td>140.0</td>\n",
       "      <td>76.0</td>\n",
       "    </tr>\n",
       "    <tr>\n",
       "      <th>67</th>\n",
       "      <td>100.0</td>\n",
       "      <td>160.0</td>\n",
       "      <td>67.0</td>\n",
       "    </tr>\n",
       "    <tr>\n",
       "      <th>68</th>\n",
       "      <td>100.0</td>\n",
       "      <td>180.0</td>\n",
       "      <td>57.0</td>\n",
       "    </tr>\n",
       "    <tr>\n",
       "      <th>69</th>\n",
       "      <td>100.0</td>\n",
       "      <td>200.0</td>\n",
       "      <td>59.0</td>\n",
       "    </tr>\n",
       "    <tr>\n",
       "      <th>70</th>\n",
       "      <td>100.0</td>\n",
       "      <td>220.0</td>\n",
       "      <td>66.0</td>\n",
       "    </tr>\n",
       "    <tr>\n",
       "      <th>71</th>\n",
       "      <td>100.0</td>\n",
       "      <td>240.0</td>\n",
       "      <td>65.0</td>\n",
       "    </tr>\n",
       "    <tr>\n",
       "      <th>72</th>\n",
       "      <td>100.0</td>\n",
       "      <td>260.0</td>\n",
       "      <td>77.0</td>\n",
       "    </tr>\n",
       "    <tr>\n",
       "      <th>73</th>\n",
       "      <td>100.0</td>\n",
       "      <td>280.0</td>\n",
       "      <td>61.0</td>\n",
       "    </tr>\n",
       "    <tr>\n",
       "      <th>74</th>\n",
       "      <td>100.0</td>\n",
       "      <td>300.0</td>\n",
       "      <td>64.0</td>\n",
       "    </tr>\n",
       "    <tr>\n",
       "      <th>75</th>\n",
       "      <td>120.0</td>\n",
       "      <td>140.0</td>\n",
       "      <td>63.0</td>\n",
       "    </tr>\n",
       "    <tr>\n",
       "      <th>76</th>\n",
       "      <td>120.0</td>\n",
       "      <td>160.0</td>\n",
       "      <td>72.0</td>\n",
       "    </tr>\n",
       "    <tr>\n",
       "      <th>77</th>\n",
       "      <td>120.0</td>\n",
       "      <td>180.0</td>\n",
       "      <td>61.0</td>\n",
       "    </tr>\n",
       "    <tr>\n",
       "      <th>78</th>\n",
       "      <td>120.0</td>\n",
       "      <td>200.0</td>\n",
       "      <td>64.0</td>\n",
       "    </tr>\n",
       "    <tr>\n",
       "      <th>79</th>\n",
       "      <td>120.0</td>\n",
       "      <td>220.0</td>\n",
       "      <td>65.0</td>\n",
       "    </tr>\n",
       "  </tbody>\n",
       "</table>\n",
       "</div>"
      ],
      "text/plain": [
       "    lower  upper  click\n",
       "50   60.0  240.0   67.0\n",
       "51   60.0  260.0   67.0\n",
       "52   60.0  280.0   68.0\n",
       "53   60.0  300.0   58.0\n",
       "54   80.0  100.0   67.0\n",
       "55   80.0  120.0   77.0\n",
       "56   80.0  140.0   82.0\n",
       "57   80.0  160.0   74.0\n",
       "58   80.0  180.0   63.0\n",
       "59   80.0  200.0   66.0\n",
       "60   80.0  220.0   68.0\n",
       "61   80.0  240.0   71.0\n",
       "62   80.0  260.0   61.0\n",
       "63   80.0  280.0   54.0\n",
       "64   80.0  300.0   58.0\n",
       "65  100.0  120.0   85.0\n",
       "66  100.0  140.0   76.0\n",
       "67  100.0  160.0   67.0\n",
       "68  100.0  180.0   57.0\n",
       "69  100.0  200.0   59.0\n",
       "70  100.0  220.0   66.0\n",
       "71  100.0  240.0   65.0\n",
       "72  100.0  260.0   77.0\n",
       "73  100.0  280.0   61.0\n",
       "74  100.0  300.0   64.0\n",
       "75  120.0  140.0   63.0\n",
       "76  120.0  160.0   72.0\n",
       "77  120.0  180.0   61.0\n",
       "78  120.0  200.0   64.0\n",
       "79  120.0  220.0   65.0"
      ]
     },
     "execution_count": 28,
     "metadata": {},
     "output_type": "execute_result"
    }
   ],
   "source": [
    "metric[50:80]"
   ]
  },
  {
   "cell_type": "code",
   "execution_count": 32,
   "metadata": {
    "scrolled": false
   },
   "outputs": [],
   "source": [
    "lower_series = metric.lower\n",
    "upper_series = metric.upper\n",
    "click_series = metric.click"
   ]
  },
  {
   "cell_type": "code",
   "execution_count": 29,
   "metadata": {
    "scrolled": true
   },
   "outputs": [
    {
     "data": {
      "text/plain": [
       "115.0"
      ]
     },
     "execution_count": 29,
     "metadata": {},
     "output_type": "execute_result"
    }
   ],
   "source": [
    "np.max(metric.click)"
   ]
  },
  {
   "cell_type": "code",
   "execution_count": 33,
   "metadata": {
    "code_folding": [],
    "scrolled": true
   },
   "outputs": [
    {
     "data": {
      "image/png": "[encoded data removed]",
      "text/plain": [
       "<matplotlib.figure.Figure at 0x28e81214ac8>"
      ]
     },
     "metadata": {},
     "output_type": "display_data"
    }
   ],
   "source": [
    "fig = plt.figure()\n",
    "ax = fig.add_subplot(111, projection='3d')\n",
    "ax.plot_trisurf(lower_series, upper_series, click_series,\n",
    "                cmap='viridis', edgecolor='none')\n",
    "\n",
    "ax.set_title('Random bidding - clicks')\n",
    "ax.set_xlabel('Lower bound', color='b')\n",
    "ax.set_ylabel('Upper bound', color='r')\n",
    "ax.set_zlabel('clicks', color='r')\n",
    "ax.view_init(45, 120)"
   ]
  },
  {
   "cell_type": "markdown",
   "metadata": {},
   "source": [
    "testing on validation set - random bidding"
   ]
  },
  {
   "cell_type": "code",
   "execution_count": 35,
   "metadata": {
    "collapsed": true
   },
   "outputs": [
    {
     "ename": "ValueError",
     "evalue": "low >= high",
     "output_type": "error",
     "traceback": [
      "\u001b[1;31m---------------------------------------------------------------------------\u001b[0m",
      "\u001b[1;31mValueError\u001b[0m                                Traceback (most recent call last)",
      "\u001b[1;32m<ipython-input-35-fe987bdae91d>\u001b[0m in \u001b[0;36m<module>\u001b[1;34m()\u001b[0m\n\u001b[1;32m----> 1\u001b[1;33m \u001b[0mspend\u001b[0m\u001b[1;33m,\u001b[0m \u001b[0mimp\u001b[0m\u001b[1;33m,\u001b[0m \u001b[0mclick\u001b[0m\u001b[1;33m,\u001b[0m \u001b[0mctr\u001b[0m\u001b[1;33m,\u001b[0m \u001b[0mcpm\u001b[0m\u001b[1;33m,\u001b[0m \u001b[0mcpc\u001b[0m\u001b[1;33m=\u001b[0m \u001b[0msingleAgent_randomBiding\u001b[0m\u001b[1;33m(\u001b[0m\u001b[0mvalidation\u001b[0m\u001b[1;33m,\u001b[0m \u001b[0mlower\u001b[0m\u001b[1;33m,\u001b[0m \u001b[0mupper\u001b[0m\u001b[1;33m,\u001b[0m\u001b[1;33m)\u001b[0m\u001b[1;33m\u001b[0m\u001b[0m\n\u001b[0m",
      "\u001b[1;32m<ipython-input-19-9775211e7126>\u001b[0m in \u001b[0;36msingleAgent_randomBiding\u001b[1;34m(df, lower_bound, upper_bound, budget, num)\u001b[0m\n\u001b[0;32m      2\u001b[0m \u001b[1;32mdef\u001b[0m \u001b[0msingleAgent_randomBiding\u001b[0m\u001b[1;33m(\u001b[0m\u001b[0mdf\u001b[0m\u001b[1;33m,\u001b[0m \u001b[0mlower_bound\u001b[0m\u001b[1;33m,\u001b[0m \u001b[0mupper_bound\u001b[0m\u001b[1;33m,\u001b[0m \u001b[0mbudget\u001b[0m\u001b[1;33m=\u001b[0m\u001b[1;36m6250\u001b[0m\u001b[1;33m*\u001b[0m\u001b[1;36m1000\u001b[0m\u001b[1;33m,\u001b[0m \u001b[0mnum\u001b[0m\u001b[1;33m=\u001b[0m\u001b[1;36m1\u001b[0m\u001b[1;33m)\u001b[0m\u001b[1;33m:\u001b[0m\u001b[1;33m\u001b[0m\u001b[0m\n\u001b[0;32m      3\u001b[0m     \u001b[0mN\u001b[0m \u001b[1;33m=\u001b[0m  \u001b[0mdf\u001b[0m\u001b[1;33m.\u001b[0m\u001b[0mshape\u001b[0m\u001b[1;33m[\u001b[0m\u001b[1;36m0\u001b[0m\u001b[1;33m]\u001b[0m\u001b[1;33m\u001b[0m\u001b[0m\n\u001b[1;32m----> 4\u001b[1;33m     \u001b[0mbid\u001b[0m \u001b[1;33m=\u001b[0m \u001b[0mpd\u001b[0m\u001b[1;33m.\u001b[0m\u001b[0mSeries\u001b[0m\u001b[1;33m(\u001b[0m\u001b[0mnp\u001b[0m\u001b[1;33m.\u001b[0m\u001b[0mrandom\u001b[0m\u001b[1;33m.\u001b[0m\u001b[0mrandint\u001b[0m\u001b[1;33m(\u001b[0m\u001b[0mlower_bound\u001b[0m\u001b[1;33m,\u001b[0m \u001b[0mupper_bound\u001b[0m\u001b[1;33m,\u001b[0m \u001b[0mN\u001b[0m\u001b[1;33m)\u001b[0m\u001b[1;33m)\u001b[0m\u001b[1;33m\u001b[0m\u001b[0m\n\u001b[0m\u001b[0;32m      5\u001b[0m     \u001b[0mdf\u001b[0m \u001b[1;33m=\u001b[0m \u001b[0mdf\u001b[0m\u001b[1;33m[\u001b[0m\u001b[1;33m[\u001b[0m\u001b[1;34m'bidid'\u001b[0m\u001b[1;33m,\u001b[0m \u001b[1;34m'payprice'\u001b[0m\u001b[1;33m,\u001b[0m \u001b[1;34m'click'\u001b[0m\u001b[1;33m]\u001b[0m\u001b[1;33m]\u001b[0m\u001b[1;33m[\u001b[0m\u001b[0mdf\u001b[0m\u001b[1;33m[\u001b[0m\u001b[1;34m'payprice'\u001b[0m\u001b[1;33m]\u001b[0m \u001b[1;33m<=\u001b[0m \u001b[0mbid\u001b[0m\u001b[1;33m]\u001b[0m\u001b[1;33m.\u001b[0m\u001b[0mcopy\u001b[0m\u001b[1;33m(\u001b[0m\u001b[1;33m)\u001b[0m\u001b[1;33m\u001b[0m\u001b[0m\n\u001b[0;32m      6\u001b[0m \u001b[1;33m\u001b[0m\u001b[0m\n",
      "\u001b[1;32mmtrand.pyx\u001b[0m in \u001b[0;36mmtrand.RandomState.randint\u001b[1;34m()\u001b[0m\n",
      "\u001b[1;31mValueError\u001b[0m: low >= high"
     ]
    }
   ],
   "source": [
    "spend, imp, click, ctr, cpm, cpc= singleAgent_randomBiding(validation, lower, upper,)"
   ]
  },
  {
   "cell_type": "code",
   "execution_count": null,
   "metadata": {},
   "outputs": [],
   "source": []
  },
  {
   "cell_type": "markdown",
   "metadata": {},
   "source": [
    "## Multiagent Random bidding"
   ]
  },
  {
   "cell_type": "code",
   "execution_count": 47,
   "metadata": {},
   "outputs": [],
   "source": [
    "# doing multiagent\n",
    "def multiagent_randomBidding(df, lower_bound, upper_bound, budget=6250*1000, num=1, agents=2):\n",
    "    \n",
    "    result = np.zeros((num, 6))\n",
    "    N =  df.shape[0]\n",
    "    \n",
    "    # bidding agents\n",
    "    for i in range(num):\n",
    "        bid_self = np.random.randint(lower_bound, upper_bound, N)\n",
    "        bid_others = np.random.randint(lower_bound, upper_bound, (N, agents)) # N个bid, 10*3的矩阵\n",
    "        bid_other_max = np.max(bid_others, axis=1)\n",
    "        bid_win = np.where(bid_self > bid_other_max, True, False)\n",
    "        payprice = np.where(bid_win, bid_other_max, 0)\n",
    "    \n",
    "        df_winning = df[['bidid', 'click']][bid_win].copy()\n",
    "        df_winning['payprice'] = payprice[bid_win]\n",
    "        \n",
    "        \n",
    "        df_winning['total_spend'] = df_winning['payprice'].cumsum()\n",
    "        final_df = df_winning[df_winning['total_spend'] <= budget]\n",
    "        \n",
    "        # stats\n",
    "        click = final_df['click'].sum()\n",
    "        impression = final_df['bidid'].count()\n",
    "        totalCPM = final_df['payprice'].sum()\n",
    "        spend = totalCPM / 1000\n",
    "\n",
    "        if impression > 0:\n",
    "            CTR = click / impression\n",
    "            CPM = totalCPM / impression\n",
    "        else:\n",
    "            CTR = np.NaN\n",
    "            CPM = np.NaN\n",
    "\n",
    "        if click > 0:\n",
    "            CPC = spend / click\n",
    "        else:\n",
    "            CPC = np.NaN\n",
    "        \n",
    "        result[i,:] = np.array([spend, impression, click, CTR, CPM, CPC])\n",
    "        \n",
    "    res = np.mean(result, axis=0)\n",
    "    \n",
    "    # unpack result\n",
    "    spend, imp, click, CTR, CPM, CPC = res.T\n",
    "    \n",
    "    return spend, imp, click, CTR, CPM, CPC"
   ]
  },
  {
   "cell_type": "code",
   "execution_count": 92,
   "metadata": {
    "scrolled": true
   },
   "outputs": [
    {
     "data": {
      "text/html": [
       "<div>\n",
       "<style scoped>\n",
       "    .dataframe tbody tr th:only-of-type {\n",
       "        vertical-align: middle;\n",
       "    }\n",
       "\n",
       "    .dataframe tbody tr th {\n",
       "        vertical-align: top;\n",
       "    }\n",
       "\n",
       "    .dataframe thead th {\n",
       "        text-align: right;\n",
       "    }\n",
       "</style>\n",
       "<table border=\"1\" class=\"dataframe\">\n",
       "  <thead>\n",
       "    <tr style=\"text-align: right;\">\n",
       "      <th></th>\n",
       "      <th>agent number</th>\n",
       "      <th>imp</th>\n",
       "      <th>click</th>\n",
       "      <th>CTR</th>\n",
       "    </tr>\n",
       "  </thead>\n",
       "  <tbody>\n",
       "    <tr>\n",
       "      <th>0</th>\n",
       "      <td>50</td>\n",
       "      <td>1307.0</td>\n",
       "      <td>2.0</td>\n",
       "      <td>0.001530</td>\n",
       "    </tr>\n",
       "    <tr>\n",
       "      <th>1</th>\n",
       "      <td>53</td>\n",
       "      <td>1036.0</td>\n",
       "      <td>0.0</td>\n",
       "      <td>0.000000</td>\n",
       "    </tr>\n",
       "    <tr>\n",
       "      <th>2</th>\n",
       "      <td>56</td>\n",
       "      <td>908.0</td>\n",
       "      <td>0.0</td>\n",
       "      <td>0.000000</td>\n",
       "    </tr>\n",
       "    <tr>\n",
       "      <th>3</th>\n",
       "      <td>59</td>\n",
       "      <td>752.0</td>\n",
       "      <td>0.0</td>\n",
       "      <td>0.000000</td>\n",
       "    </tr>\n",
       "    <tr>\n",
       "      <th>4</th>\n",
       "      <td>62</td>\n",
       "      <td>686.0</td>\n",
       "      <td>2.0</td>\n",
       "      <td>0.002915</td>\n",
       "    </tr>\n",
       "    <tr>\n",
       "      <th>5</th>\n",
       "      <td>65</td>\n",
       "      <td>572.0</td>\n",
       "      <td>0.0</td>\n",
       "      <td>0.000000</td>\n",
       "    </tr>\n",
       "    <tr>\n",
       "      <th>6</th>\n",
       "      <td>68</td>\n",
       "      <td>473.0</td>\n",
       "      <td>0.0</td>\n",
       "      <td>0.000000</td>\n",
       "    </tr>\n",
       "    <tr>\n",
       "      <th>7</th>\n",
       "      <td>71</td>\n",
       "      <td>430.0</td>\n",
       "      <td>0.0</td>\n",
       "      <td>0.000000</td>\n",
       "    </tr>\n",
       "    <tr>\n",
       "      <th>8</th>\n",
       "      <td>74</td>\n",
       "      <td>320.0</td>\n",
       "      <td>0.0</td>\n",
       "      <td>0.000000</td>\n",
       "    </tr>\n",
       "    <tr>\n",
       "      <th>9</th>\n",
       "      <td>77</td>\n",
       "      <td>263.0</td>\n",
       "      <td>0.0</td>\n",
       "      <td>0.000000</td>\n",
       "    </tr>\n",
       "    <tr>\n",
       "      <th>10</th>\n",
       "      <td>80</td>\n",
       "      <td>221.0</td>\n",
       "      <td>0.0</td>\n",
       "      <td>0.000000</td>\n",
       "    </tr>\n",
       "    <tr>\n",
       "      <th>11</th>\n",
       "      <td>83</td>\n",
       "      <td>221.0</td>\n",
       "      <td>1.0</td>\n",
       "      <td>0.004525</td>\n",
       "    </tr>\n",
       "    <tr>\n",
       "      <th>12</th>\n",
       "      <td>86</td>\n",
       "      <td>184.0</td>\n",
       "      <td>0.0</td>\n",
       "      <td>0.000000</td>\n",
       "    </tr>\n",
       "    <tr>\n",
       "      <th>13</th>\n",
       "      <td>89</td>\n",
       "      <td>149.0</td>\n",
       "      <td>0.0</td>\n",
       "      <td>0.000000</td>\n",
       "    </tr>\n",
       "    <tr>\n",
       "      <th>14</th>\n",
       "      <td>92</td>\n",
       "      <td>148.0</td>\n",
       "      <td>0.0</td>\n",
       "      <td>0.000000</td>\n",
       "    </tr>\n",
       "    <tr>\n",
       "      <th>15</th>\n",
       "      <td>95</td>\n",
       "      <td>110.0</td>\n",
       "      <td>0.0</td>\n",
       "      <td>0.000000</td>\n",
       "    </tr>\n",
       "    <tr>\n",
       "      <th>16</th>\n",
       "      <td>98</td>\n",
       "      <td>76.0</td>\n",
       "      <td>0.0</td>\n",
       "      <td>0.000000</td>\n",
       "    </tr>\n",
       "  </tbody>\n",
       "</table>\n",
       "</div>"
      ],
      "text/plain": [
       "    agent number     imp  click       CTR\n",
       "0             50  1307.0    2.0  0.001530\n",
       "1             53  1036.0    0.0  0.000000\n",
       "2             56   908.0    0.0  0.000000\n",
       "3             59   752.0    0.0  0.000000\n",
       "4             62   686.0    2.0  0.002915\n",
       "5             65   572.0    0.0  0.000000\n",
       "6             68   473.0    0.0  0.000000\n",
       "7             71   430.0    0.0  0.000000\n",
       "8             74   320.0    0.0  0.000000\n",
       "9             77   263.0    0.0  0.000000\n",
       "10            80   221.0    0.0  0.000000\n",
       "11            83   221.0    1.0  0.004525\n",
       "12            86   184.0    0.0  0.000000\n",
       "13            89   149.0    0.0  0.000000\n",
       "14            92   148.0    0.0  0.000000\n",
       "15            95   110.0    0.0  0.000000\n",
       "16            98    76.0    0.0  0.000000"
      ]
     },
     "execution_count": 92,
     "metadata": {},
     "output_type": "execute_result"
    }
   ],
   "source": [
    "f = pd.DataFrame(metric_multiagent, columns=['agent number' , 'imp','click','CTR' ]); f"
   ]
  },
  {
   "cell_type": "code",
   "execution_count": 93,
   "metadata": {
    "scrolled": false
   },
   "outputs": [
    {
     "name": "stdout",
     "output_type": "stream",
     "text": [
      "50\n",
      "60\n",
      "70\n",
      "80\n",
      "90\n",
      "100\n"
     ]
    }
   ],
   "source": [
    "# consider best bidding range for multiagents\n",
    "\n",
    "minBid = 60\n",
    "maxBid = 80\n",
    "\n",
    "res_list = list()\n",
    "for agent in range(50, 101, 10): # 101\n",
    "    spend, imp, click, CTR, CPM, CPC = multiagent_randomBidding(train, minBid, maxBid, num=1, agents=agent)\n",
    "    res_list.append(np.hstack((minBid, maxBid, agent, spend, imp, click, CTR, CPM, CPC)))\n",
    "    print(agent)\n",
    "\n",
    "res_df = pd.DataFrame(res_list, columns=['minBid', 'minBid', 'agents', 'spend', 'impression', 'click', 'CTR', 'CPM', 'CPC'])"
   ]
  },
  {
   "cell_type": "code",
   "execution_count": 94,
   "metadata": {
    "scrolled": true
   },
   "outputs": [
    {
     "data": {
      "text/plain": [
       "Text(0,0.5,'clicks')"
      ]
     },
     "execution_count": 94,
     "metadata": {},
     "output_type": "execute_result"
    },
    {
     "data": {
      "image/png": "[encoded data removed]",
      "text/plain": [
       "<matplotlib.figure.Figure at 0x28e832644e0>"
      ]
     },
     "metadata": {},
     "output_type": "display_data"
    }
   ],
   "source": [
    "# Clicks\n",
    "plt.plot( res_df.agents, res_df.click);\n",
    "plt.title('Number of clicks - multiagent random bidding')\n",
    "plt.xlabel('no. of homogeneous agents')\n",
    "plt.ylabel('clicks')"
   ]
  },
  {
   "cell_type": "code",
   "execution_count": 96,
   "metadata": {
    "scrolled": false
   },
   "outputs": [
    {
     "data": {
      "text/plain": [
       "Text(0,0.5,'clicks')"
      ]
     },
     "execution_count": 96,
     "metadata": {},
     "output_type": "execute_result"
    },
    {
     "data": {
      "image/png": "[encoded data removed]",
      "text/plain": [
       "<matplotlib.figure.Figure at 0x28e827a0160>"
      ]
     },
     "metadata": {},
     "output_type": "display_data"
    }
   ],
   "source": [
    "# Clicks\n",
    "plt.plot( res_df.agents, res_df.impression);\n",
    "plt.title('Number of impressions - multiagent random bidding')\n",
    "plt.xlabel('no. of agents')\n",
    "plt.ylabel('clicks')"
   ]
  },
  {
   "cell_type": "code",
   "execution_count": null,
   "metadata": {},
   "outputs": [],
   "source": []
  },
  {
   "cell_type": "markdown",
   "metadata": {},
   "source": [
    "# Q5: multiagent bidding - final"
   ]
  },
  {
   "cell_type": "code",
   "execution_count": 133,
   "metadata": {},
   "outputs": [],
   "source": [
    "bidprice = pd.read_csv('./multi_bidprice_change_param.csv')"
   ]
  },
  {
   "cell_type": "code",
   "execution_count": 56,
   "metadata": {
    "scrolled": false
   },
   "outputs": [
    {
     "data": {
      "text/plain": [
       "((303925, 9), (303925, 25))"
      ]
     },
     "execution_count": 56,
     "metadata": {},
     "output_type": "execute_result"
    }
   ],
   "source": [
    "bidprice.shape, validation.shape"
   ]
  },
  {
   "cell_type": "code",
   "execution_count": 57,
   "metadata": {
    "scrolled": false
   },
   "outputs": [
    {
     "data": {
      "text/html": [
       "<div>\n",
       "<style scoped>\n",
       "    .dataframe tbody tr th:only-of-type {\n",
       "        vertical-align: middle;\n",
       "    }\n",
       "\n",
       "    .dataframe tbody tr th {\n",
       "        vertical-align: top;\n",
       "    }\n",
       "\n",
       "    .dataframe thead th {\n",
       "        text-align: right;\n",
       "    }\n",
       "</style>\n",
       "<table border=\"1\" class=\"dataframe\">\n",
       "  <thead>\n",
       "    <tr style=\"text-align: right;\">\n",
       "      <th></th>\n",
       "      <th>click</th>\n",
       "      <th>weekday</th>\n",
       "      <th>hour</th>\n",
       "      <th>bidid</th>\n",
       "      <th>userid</th>\n",
       "      <th>useragent</th>\n",
       "      <th>IP</th>\n",
       "      <th>region</th>\n",
       "      <th>city</th>\n",
       "      <th>adexchange</th>\n",
       "      <th>...</th>\n",
       "      <th>slotheight</th>\n",
       "      <th>slotvisibility</th>\n",
       "      <th>slotformat</th>\n",
       "      <th>slotprice</th>\n",
       "      <th>creative</th>\n",
       "      <th>bidprice</th>\n",
       "      <th>payprice</th>\n",
       "      <th>keypage</th>\n",
       "      <th>advertiser</th>\n",
       "      <th>usertag</th>\n",
       "    </tr>\n",
       "  </thead>\n",
       "  <tbody>\n",
       "    <tr>\n",
       "      <th>0</th>\n",
       "      <td>0</td>\n",
       "      <td>4</td>\n",
       "      <td>20</td>\n",
       "      <td>bbcb813b6166538503d8b33a5602d7d72f6019dc</td>\n",
       "      <td>663169f66491c98c69f1f94a5c48fa34aa9fe06f</td>\n",
       "      <td>windows_ie</td>\n",
       "      <td>211.144.203.*</td>\n",
       "      <td>79</td>\n",
       "      <td>79</td>\n",
       "      <td>1.0</td>\n",
       "      <td>...</td>\n",
       "      <td>600</td>\n",
       "      <td>2</td>\n",
       "      <td>1</td>\n",
       "      <td>0</td>\n",
       "      <td>cb7c76e7784031272e37af8e7e9b062c</td>\n",
       "      <td>300</td>\n",
       "      <td>23</td>\n",
       "      <td>bebefa5efe83beee17a3d245e7c5085b</td>\n",
       "      <td>1458</td>\n",
       "      <td>13866,10111</td>\n",
       "    </tr>\n",
       "    <tr>\n",
       "      <th>1</th>\n",
       "      <td>0</td>\n",
       "      <td>1</td>\n",
       "      <td>21</td>\n",
       "      <td>5a07316c49477cb5d9b4d5aa39c27d6c3be7f92d</td>\n",
       "      <td>a23f0cfab6592c137f796e68fa752fceba08bb1b</td>\n",
       "      <td>windows_chrome</td>\n",
       "      <td>58.247.250.*</td>\n",
       "      <td>79</td>\n",
       "      <td>79</td>\n",
       "      <td>1.0</td>\n",
       "      <td>...</td>\n",
       "      <td>90</td>\n",
       "      <td>0</td>\n",
       "      <td>1</td>\n",
       "      <td>0</td>\n",
       "      <td>c938195f9e404b4f38c7e71bf50263e5</td>\n",
       "      <td>238</td>\n",
       "      <td>75</td>\n",
       "      <td>a3becb967c015e9acb5e72f22b100ef8</td>\n",
       "      <td>3476</td>\n",
       "      <td>10075,10057,10024,10052,10083,10063,10006,10110</td>\n",
       "    </tr>\n",
       "    <tr>\n",
       "      <th>2</th>\n",
       "      <td>0</td>\n",
       "      <td>4</td>\n",
       "      <td>8</td>\n",
       "      <td>f6ece71dae81d6b16bfb24ad6dd5611472d4c673</td>\n",
       "      <td>5105a013ea54a9706146033e6a138d5234a3803e</td>\n",
       "      <td>windows_ie</td>\n",
       "      <td>117.12.111.*</td>\n",
       "      <td>2</td>\n",
       "      <td>2</td>\n",
       "      <td>2.0</td>\n",
       "      <td>...</td>\n",
       "      <td>250</td>\n",
       "      <td>2</td>\n",
       "      <td>0</td>\n",
       "      <td>5</td>\n",
       "      <td>911b2d84826786018761e8c0b0a3a60c</td>\n",
       "      <td>238</td>\n",
       "      <td>65</td>\n",
       "      <td>d29e59bf0f7f8243858b8183f14d4412</td>\n",
       "      <td>3358</td>\n",
       "      <td>13866,10024,10059,10063,13776,10083,10006,10111</td>\n",
       "    </tr>\n",
       "  </tbody>\n",
       "</table>\n",
       "<p>3 rows × 25 columns</p>\n",
       "</div>"
      ],
      "text/plain": [
       "   click  weekday  hour                                     bidid  \\\n",
       "0      0        4    20  bbcb813b6166538503d8b33a5602d7d72f6019dc   \n",
       "1      0        1    21  5a07316c49477cb5d9b4d5aa39c27d6c3be7f92d   \n",
       "2      0        4     8  f6ece71dae81d6b16bfb24ad6dd5611472d4c673   \n",
       "\n",
       "                                     userid       useragent             IP  \\\n",
       "0  663169f66491c98c69f1f94a5c48fa34aa9fe06f      windows_ie  211.144.203.*   \n",
       "1  a23f0cfab6592c137f796e68fa752fceba08bb1b  windows_chrome   58.247.250.*   \n",
       "2  5105a013ea54a9706146033e6a138d5234a3803e      windows_ie   117.12.111.*   \n",
       "\n",
       "   region  city  adexchange                       ...                         \\\n",
       "0      79    79         1.0                       ...                          \n",
       "1      79    79         1.0                       ...                          \n",
       "2       2     2         2.0                       ...                          \n",
       "\n",
       "  slotheight slotvisibility  slotformat slotprice  \\\n",
       "0        600              2           1         0   \n",
       "1         90              0           1         0   \n",
       "2        250              2           0         5   \n",
       "\n",
       "                           creative  bidprice payprice  \\\n",
       "0  cb7c76e7784031272e37af8e7e9b062c       300       23   \n",
       "1  c938195f9e404b4f38c7e71bf50263e5       238       75   \n",
       "2  911b2d84826786018761e8c0b0a3a60c       238       65   \n",
       "\n",
       "                            keypage  advertiser  \\\n",
       "0  bebefa5efe83beee17a3d245e7c5085b        1458   \n",
       "1  a3becb967c015e9acb5e72f22b100ef8        3476   \n",
       "2  d29e59bf0f7f8243858b8183f14d4412        3358   \n",
       "\n",
       "                                           usertag  \n",
       "0                                      13866,10111  \n",
       "1  10075,10057,10024,10052,10083,10063,10006,10110  \n",
       "2  13866,10024,10059,10063,13776,10083,10006,10111  \n",
       "\n",
       "[3 rows x 25 columns]"
      ]
     },
     "execution_count": 57,
     "metadata": {},
     "output_type": "execute_result"
    }
   ],
   "source": [
    "validation.head(3)"
   ]
  },
  {
   "cell_type": "code",
   "execution_count": 113,
   "metadata": {
    "scrolled": true
   },
   "outputs": [],
   "source": [
    "resultsBids=pd.DataFrame(index=range(validation.shape[0]))\n",
    "\n",
    "# 从 validation\n",
    "bidprice['click']=validation['click']\n",
    "bidprice['payprice']=validation['payprice']"
   ]
  },
  {
   "cell_type": "code",
   "execution_count": 114,
   "metadata": {
    "scrolled": true
   },
   "outputs": [
    {
     "data": {
      "text/html": [
       "<div>\n",
       "<style scoped>\n",
       "    .dataframe tbody tr th:only-of-type {\n",
       "        vertical-align: middle;\n",
       "    }\n",
       "\n",
       "    .dataframe tbody tr th {\n",
       "        vertical-align: top;\n",
       "    }\n",
       "\n",
       "    .dataframe thead th {\n",
       "        text-align: right;\n",
       "    }\n",
       "</style>\n",
       "<table border=\"1\" class=\"dataframe\">\n",
       "  <thead>\n",
       "    <tr style=\"text-align: right;\">\n",
       "      <th></th>\n",
       "      <th>LR_linear</th>\n",
       "      <th>RF_linear</th>\n",
       "      <th>XGB_linear</th>\n",
       "      <th>LR_quadratic</th>\n",
       "      <th>RF_quadratic</th>\n",
       "      <th>XGB_quadratic</th>\n",
       "      <th>LR_ORTB</th>\n",
       "      <th>RF_ORTB</th>\n",
       "      <th>XGB_ORTB</th>\n",
       "      <th>click</th>\n",
       "      <th>payprice</th>\n",
       "    </tr>\n",
       "  </thead>\n",
       "  <tbody>\n",
       "    <tr>\n",
       "      <th>0</th>\n",
       "      <td>55.176850</td>\n",
       "      <td>48.053406</td>\n",
       "      <td>25.628753</td>\n",
       "      <td>32.216770</td>\n",
       "      <td>24.435237</td>\n",
       "      <td>6.950613</td>\n",
       "      <td>62.823551</td>\n",
       "      <td>57.625865</td>\n",
       "      <td>38.313333</td>\n",
       "      <td>0</td>\n",
       "      <td>23</td>\n",
       "    </tr>\n",
       "    <tr>\n",
       "      <th>1</th>\n",
       "      <td>25.667543</td>\n",
       "      <td>83.631096</td>\n",
       "      <td>18.952543</td>\n",
       "      <td>6.971669</td>\n",
       "      <td>74.012278</td>\n",
       "      <td>3.801046</td>\n",
       "      <td>38.352259</td>\n",
       "      <td>80.950362</td>\n",
       "      <td>31.174587</td>\n",
       "      <td>0</td>\n",
       "      <td>75</td>\n",
       "    </tr>\n",
       "    <tr>\n",
       "      <th>2</th>\n",
       "      <td>27.100368</td>\n",
       "      <td>48.053406</td>\n",
       "      <td>15.350596</td>\n",
       "      <td>7.771745</td>\n",
       "      <td>24.435237</td>\n",
       "      <td>2.493553</td>\n",
       "      <td>39.772333</td>\n",
       "      <td>57.625865</td>\n",
       "      <td>26.873727</td>\n",
       "      <td>0</td>\n",
       "      <td>65</td>\n",
       "    </tr>\n",
       "    <tr>\n",
       "      <th>3</th>\n",
       "      <td>29.847929</td>\n",
       "      <td>31.371260</td>\n",
       "      <td>14.806595</td>\n",
       "      <td>9.427501</td>\n",
       "      <td>10.414349</td>\n",
       "      <td>2.319950</td>\n",
       "      <td>42.405113</td>\n",
       "      <td>43.818019</td>\n",
       "      <td>26.189373</td>\n",
       "      <td>0</td>\n",
       "      <td>6</td>\n",
       "    </tr>\n",
       "    <tr>\n",
       "      <th>4</th>\n",
       "      <td>39.564984</td>\n",
       "      <td>15.366955</td>\n",
       "      <td>20.611810</td>\n",
       "      <td>16.564952</td>\n",
       "      <td>2.498871</td>\n",
       "      <td>4.495732</td>\n",
       "      <td>50.936638</td>\n",
       "      <td>26.894151</td>\n",
       "      <td>33.038612</td>\n",
       "      <td>0</td>\n",
       "      <td>5</td>\n",
       "    </tr>\n",
       "  </tbody>\n",
       "</table>\n",
       "</div>"
      ],
      "text/plain": [
       "   LR_linear  RF_linear  XGB_linear  LR_quadratic  RF_quadratic  \\\n",
       "0  55.176850  48.053406   25.628753     32.216770     24.435237   \n",
       "1  25.667543  83.631096   18.952543      6.971669     74.012278   \n",
       "2  27.100368  48.053406   15.350596      7.771745     24.435237   \n",
       "3  29.847929  31.371260   14.806595      9.427501     10.414349   \n",
       "4  39.564984  15.366955   20.611810     16.564952      2.498871   \n",
       "\n",
       "   XGB_quadratic    LR_ORTB    RF_ORTB   XGB_ORTB  click  payprice  \n",
       "0       6.950613  62.823551  57.625865  38.313333      0        23  \n",
       "1       3.801046  38.352259  80.950362  31.174587      0        75  \n",
       "2       2.493553  39.772333  57.625865  26.873727      0        65  \n",
       "3       2.319950  42.405113  43.818019  26.189373      0         6  \n",
       "4       4.495732  50.936638  26.894151  33.038612      0         5  "
      ]
     },
     "execution_count": 114,
     "metadata": {},
     "output_type": "execute_result"
    }
   ],
   "source": [
    "bidprice.head()"
   ]
  },
  {
   "cell_type": "code",
   "execution_count": 60,
   "metadata": {
    "code_folding": []
   },
   "outputs": [],
   "source": [
    "# doing\n",
    "def evaluate_rand_multiagent_modifying(df, df_other, self_team, budget=6250*1000, num=1, agents=2):\n",
    "    \n",
    "    result = np.zeros((num, 6))\n",
    "    N =  df.shape[0]\n",
    "    \n",
    "    # bidding agents\n",
    "    for i in range(num):\n",
    "        bid_self = df[self_team].values # ???\n",
    "        bid_other_max = np.max(df_other, axis=1)\n",
    "        bid_other_max.sort_index(inplace=True)\n",
    "        \n",
    "        won = np.where(bid_self > bid_other_max, True, False)\n",
    "\n",
    "        # if won, then pay bid other max; else pay 0\n",
    "        payprice = np.where(won, bid_other_max, 0)\n",
    "    \n",
    "        df_winning = df_other[['click']][won].copy()\n",
    "        df_winning \n",
    "        df_winning['payprice'] = payprice[won] # pay 2nd price\n",
    "        \n",
    "        \n",
    "        df_winning['total_cost'] = df_winning['payprice'].cumsum()\n",
    "        final_df = df_winning[df_winning['total_cost'] <= budget]\n",
    "        \n",
    "        # stats\n",
    "        click = final_df['click'].sum()\n",
    "        impression = final_df.shape[0]\n",
    "        totalCPM = final_df['payprice'].sum()\n",
    "        spend = totalCPM / 1000\n",
    "\n",
    "        if impression > 0:\n",
    "            CTR = click / impression\n",
    "            CPM = totalCPM / impression\n",
    "        else:\n",
    "            CTR = np.NaN\n",
    "            CPM = np.NaN\n",
    "\n",
    "        if click > 0:\n",
    "            CPC = spend / click\n",
    "        else:\n",
    "            CPC = np.NaN\n",
    "        \n",
    "        result[i,:] = np.array([spend, impression, click, CTR, CPM, CPC])\n",
    "        \n",
    "    res = np.mean(result, axis=0)\n",
    "    \n",
    "    # unpack result\n",
    "    spend, imp, click, CTR, CPM, CPC = res.T\n",
    "    \n",
    "    return spend, imp, click, CTR, CPM, CPC"
   ]
  },
  {
   "cell_type": "code",
   "execution_count": 61,
   "metadata": {
    "scrolled": false
   },
   "outputs": [
    {
     "data": {
      "text/html": [
       "<div>\n",
       "<style scoped>\n",
       "    .dataframe tbody tr th:only-of-type {\n",
       "        vertical-align: middle;\n",
       "    }\n",
       "\n",
       "    .dataframe tbody tr th {\n",
       "        vertical-align: top;\n",
       "    }\n",
       "\n",
       "    .dataframe thead th {\n",
       "        text-align: right;\n",
       "    }\n",
       "</style>\n",
       "<table border=\"1\" class=\"dataframe\">\n",
       "  <thead>\n",
       "    <tr style=\"text-align: right;\">\n",
       "      <th></th>\n",
       "      <th>LR_linear</th>\n",
       "      <th>RF_linear</th>\n",
       "      <th>XGB_linear</th>\n",
       "      <th>LR_quadratic</th>\n",
       "      <th>RF_quadratic</th>\n",
       "      <th>XGB_quadratic</th>\n",
       "      <th>LR_ORTB</th>\n",
       "      <th>RF_ORTB</th>\n",
       "      <th>XGB_ORTB</th>\n",
       "      <th>click</th>\n",
       "      <th>payprice</th>\n",
       "    </tr>\n",
       "  </thead>\n",
       "  <tbody>\n",
       "    <tr>\n",
       "      <th>0</th>\n",
       "      <td>55.176850</td>\n",
       "      <td>48.053406</td>\n",
       "      <td>25.628753</td>\n",
       "      <td>32.216770</td>\n",
       "      <td>24.435237</td>\n",
       "      <td>6.950613</td>\n",
       "      <td>62.823551</td>\n",
       "      <td>57.625865</td>\n",
       "      <td>38.313333</td>\n",
       "      <td>0</td>\n",
       "      <td>23</td>\n",
       "    </tr>\n",
       "    <tr>\n",
       "      <th>1</th>\n",
       "      <td>25.667543</td>\n",
       "      <td>83.631096</td>\n",
       "      <td>18.952543</td>\n",
       "      <td>6.971669</td>\n",
       "      <td>74.012278</td>\n",
       "      <td>3.801046</td>\n",
       "      <td>38.352259</td>\n",
       "      <td>80.950362</td>\n",
       "      <td>31.174587</td>\n",
       "      <td>0</td>\n",
       "      <td>75</td>\n",
       "    </tr>\n",
       "    <tr>\n",
       "      <th>2</th>\n",
       "      <td>27.100368</td>\n",
       "      <td>48.053406</td>\n",
       "      <td>15.350596</td>\n",
       "      <td>7.771745</td>\n",
       "      <td>24.435237</td>\n",
       "      <td>2.493553</td>\n",
       "      <td>39.772333</td>\n",
       "      <td>57.625865</td>\n",
       "      <td>26.873727</td>\n",
       "      <td>0</td>\n",
       "      <td>65</td>\n",
       "    </tr>\n",
       "  </tbody>\n",
       "</table>\n",
       "</div>"
      ],
      "text/plain": [
       "   LR_linear  RF_linear  XGB_linear  LR_quadratic  RF_quadratic  \\\n",
       "0  55.176850  48.053406   25.628753     32.216770     24.435237   \n",
       "1  25.667543  83.631096   18.952543      6.971669     74.012278   \n",
       "2  27.100368  48.053406   15.350596      7.771745     24.435237   \n",
       "\n",
       "   XGB_quadratic    LR_ORTB    RF_ORTB   XGB_ORTB  click  payprice  \n",
       "0       6.950613  62.823551  57.625865  38.313333      0        23  \n",
       "1       3.801046  38.352259  80.950362  31.174587      0        75  \n",
       "2       2.493553  39.772333  57.625865  26.873727      0        65  "
      ]
     },
     "execution_count": 61,
     "metadata": {},
     "output_type": "execute_result"
    }
   ],
   "source": [
    "bidprice.head(3)"
   ]
  },
  {
   "cell_type": "code",
   "execution_count": 126,
   "metadata": {
    "scrolled": false
   },
   "outputs": [],
   "source": [
    "# 思路一： 原始 bid price找最好的模型\n",
    "\n",
    "click_list = []\n",
    "teams = ['LR_linear', 'RF_linear', 'XGB_linear', 'LR_quadratic', 'RF_quadratic', \n",
    "         'XGB_quadratic', 'LR_ORTB', 'RF_ORTB', 'XGB_ORTB']\n",
    "\n",
    "for team in teams: \n",
    "    \n",
    "    # self and other\n",
    "    df_self = bidprice[[team]]\n",
    "    df_other = bidprice.drop(team, axis=1)\n",
    "    \n",
    "    spend, imp, click, CTR, CPM, CPC = evaluate_rand_multiagent_modifying(df_self, df_other, self_team=team, num=1)\n",
    "    click_list.append([team , imp, click, CPM, CTR, CPC])\n",
    "#     print('team=', team , ', click=', click, ', spend=', spend, ', ctr=', CTR)"
   ]
  },
  {
   "cell_type": "code",
   "execution_count": 127,
   "metadata": {
    "scrolled": false
   },
   "outputs": [
    {
     "data": {
      "text/html": [
       "<div>\n",
       "<style scoped>\n",
       "    .dataframe tbody tr th:only-of-type {\n",
       "        vertical-align: middle;\n",
       "    }\n",
       "\n",
       "    .dataframe tbody tr th {\n",
       "        vertical-align: top;\n",
       "    }\n",
       "\n",
       "    .dataframe thead th {\n",
       "        text-align: right;\n",
       "    }\n",
       "</style>\n",
       "<table border=\"1\" class=\"dataframe\">\n",
       "  <thead>\n",
       "    <tr style=\"text-align: right;\">\n",
       "      <th></th>\n",
       "      <th>team name</th>\n",
       "      <th>impression</th>\n",
       "      <th>click</th>\n",
       "      <th>CPM</th>\n",
       "      <th>CTR</th>\n",
       "      <th>CPC</th>\n",
       "    </tr>\n",
       "  </thead>\n",
       "  <tbody>\n",
       "    <tr>\n",
       "      <th>0</th>\n",
       "      <td>LR_linear</td>\n",
       "      <td>11404.0</td>\n",
       "      <td>2.0</td>\n",
       "      <td>83.271185</td>\n",
       "      <td>0.000175</td>\n",
       "      <td>474.812297</td>\n",
       "    </tr>\n",
       "    <tr>\n",
       "      <th>1</th>\n",
       "      <td>RF_linear</td>\n",
       "      <td>9794.0</td>\n",
       "      <td>0.0</td>\n",
       "      <td>81.001131</td>\n",
       "      <td>0.000000</td>\n",
       "      <td>NaN</td>\n",
       "    </tr>\n",
       "    <tr>\n",
       "      <th>2</th>\n",
       "      <td>XGB_linear</td>\n",
       "      <td>3831.0</td>\n",
       "      <td>2.0</td>\n",
       "      <td>83.299208</td>\n",
       "      <td>0.000522</td>\n",
       "      <td>159.559633</td>\n",
       "    </tr>\n",
       "    <tr>\n",
       "      <th>3</th>\n",
       "      <td>LR_quadratic</td>\n",
       "      <td>5478.0</td>\n",
       "      <td>4.0</td>\n",
       "      <td>1140.900596</td>\n",
       "      <td>0.000730</td>\n",
       "      <td>1562.463366</td>\n",
       "    </tr>\n",
       "    <tr>\n",
       "      <th>4</th>\n",
       "      <td>RF_quadratic</td>\n",
       "      <td>5154.0</td>\n",
       "      <td>5.0</td>\n",
       "      <td>1211.950073</td>\n",
       "      <td>0.000970</td>\n",
       "      <td>1249.278135</td>\n",
       "    </tr>\n",
       "    <tr>\n",
       "      <th>5</th>\n",
       "      <td>XGB_quadratic</td>\n",
       "      <td>1211.0</td>\n",
       "      <td>6.0</td>\n",
       "      <td>5160.934368</td>\n",
       "      <td>0.004955</td>\n",
       "      <td>1041.648587</td>\n",
       "    </tr>\n",
       "    <tr>\n",
       "      <th>6</th>\n",
       "      <td>LR_ORTB</td>\n",
       "      <td>37692.0</td>\n",
       "      <td>1.0</td>\n",
       "      <td>55.676710</td>\n",
       "      <td>0.000027</td>\n",
       "      <td>2098.566541</td>\n",
       "    </tr>\n",
       "    <tr>\n",
       "      <th>7</th>\n",
       "      <td>RF_ORTB</td>\n",
       "      <td>18430.0</td>\n",
       "      <td>0.0</td>\n",
       "      <td>55.796579</td>\n",
       "      <td>0.000000</td>\n",
       "      <td>NaN</td>\n",
       "    </tr>\n",
       "    <tr>\n",
       "      <th>8</th>\n",
       "      <td>XGB_ORTB</td>\n",
       "      <td>15690.0</td>\n",
       "      <td>4.0</td>\n",
       "      <td>53.815242</td>\n",
       "      <td>0.000255</td>\n",
       "      <td>211.090288</td>\n",
       "    </tr>\n",
       "  </tbody>\n",
       "</table>\n",
       "</div>"
      ],
      "text/plain": [
       "       team name  impression  click          CPM       CTR          CPC\n",
       "0      LR_linear     11404.0    2.0    83.271185  0.000175   474.812297\n",
       "1      RF_linear      9794.0    0.0    81.001131  0.000000          NaN\n",
       "2     XGB_linear      3831.0    2.0    83.299208  0.000522   159.559633\n",
       "3   LR_quadratic      5478.0    4.0  1140.900596  0.000730  1562.463366\n",
       "4   RF_quadratic      5154.0    5.0  1211.950073  0.000970  1249.278135\n",
       "5  XGB_quadratic      1211.0    6.0  5160.934368  0.004955  1041.648587\n",
       "6        LR_ORTB     37692.0    1.0    55.676710  0.000027  2098.566541\n",
       "7        RF_ORTB     18430.0    0.0    55.796579  0.000000          NaN\n",
       "8       XGB_ORTB     15690.0    4.0    53.815242  0.000255   211.090288"
      ]
     },
     "execution_count": 127,
     "metadata": {},
     "output_type": "execute_result"
    }
   ],
   "source": [
    "pd.DataFrame( click_list , columns=['team name', 'impression', 'click','CPM', 'CTR' ,'CPC'], )"
   ]
  },
  {
   "cell_type": "code",
   "execution_count": 178,
   "metadata": {
    "scrolled": false
   },
   "outputs": [
    {
     "data": {
      "text/html": [
       "<div>\n",
       "<style scoped>\n",
       "    .dataframe tbody tr th:only-of-type {\n",
       "        vertical-align: middle;\n",
       "    }\n",
       "\n",
       "    .dataframe tbody tr th {\n",
       "        vertical-align: top;\n",
       "    }\n",
       "\n",
       "    .dataframe thead th {\n",
       "        text-align: right;\n",
       "    }\n",
       "</style>\n",
       "<table border=\"1\" class=\"dataframe\">\n",
       "  <thead>\n",
       "    <tr style=\"text-align: right;\">\n",
       "      <th></th>\n",
       "      <th>LR_linear</th>\n",
       "      <th>RF_linear</th>\n",
       "      <th>XGB_linear</th>\n",
       "      <th>LR_quadratic</th>\n",
       "      <th>RF_quadratic</th>\n",
       "      <th>XGB_quadratic</th>\n",
       "      <th>LR_ORTB</th>\n",
       "      <th>RF_ORTB</th>\n",
       "      <th>XGB_ORTB</th>\n",
       "      <th>click</th>\n",
       "      <th>payprice</th>\n",
       "    </tr>\n",
       "  </thead>\n",
       "  <tbody>\n",
       "    <tr>\n",
       "      <th>0</th>\n",
       "      <td>0.000000</td>\n",
       "      <td>0.0</td>\n",
       "      <td>0.0</td>\n",
       "      <td>0.000000</td>\n",
       "      <td>0.0</td>\n",
       "      <td>0.0</td>\n",
       "      <td>0.000000</td>\n",
       "      <td>0.0</td>\n",
       "      <td>0.0</td>\n",
       "      <td>0</td>\n",
       "      <td>0</td>\n",
       "    </tr>\n",
       "    <tr>\n",
       "      <th>1</th>\n",
       "      <td>0.000000</td>\n",
       "      <td>0.0</td>\n",
       "      <td>0.0</td>\n",
       "      <td>0.000000</td>\n",
       "      <td>0.0</td>\n",
       "      <td>0.0</td>\n",
       "      <td>0.000000</td>\n",
       "      <td>0.0</td>\n",
       "      <td>0.0</td>\n",
       "      <td>0</td>\n",
       "      <td>0</td>\n",
       "    </tr>\n",
       "    <tr>\n",
       "      <th>2</th>\n",
       "      <td>0.000000</td>\n",
       "      <td>0.0</td>\n",
       "      <td>0.0</td>\n",
       "      <td>0.000000</td>\n",
       "      <td>0.0</td>\n",
       "      <td>0.0</td>\n",
       "      <td>0.000000</td>\n",
       "      <td>0.0</td>\n",
       "      <td>0.0</td>\n",
       "      <td>0</td>\n",
       "      <td>0</td>\n",
       "    </tr>\n",
       "    <tr>\n",
       "      <th>3</th>\n",
       "      <td>0.000000</td>\n",
       "      <td>0.0</td>\n",
       "      <td>0.0</td>\n",
       "      <td>0.000000</td>\n",
       "      <td>0.0</td>\n",
       "      <td>0.0</td>\n",
       "      <td>0.000000</td>\n",
       "      <td>0.0</td>\n",
       "      <td>0.0</td>\n",
       "      <td>0</td>\n",
       "      <td>0</td>\n",
       "    </tr>\n",
       "    <tr>\n",
       "      <th>4</th>\n",
       "      <td>0.000000</td>\n",
       "      <td>0.0</td>\n",
       "      <td>0.0</td>\n",
       "      <td>0.000000</td>\n",
       "      <td>0.0</td>\n",
       "      <td>0.0</td>\n",
       "      <td>0.000000</td>\n",
       "      <td>0.0</td>\n",
       "      <td>0.0</td>\n",
       "      <td>0</td>\n",
       "      <td>0</td>\n",
       "    </tr>\n",
       "    <tr>\n",
       "      <th>5</th>\n",
       "      <td>4128.176563</td>\n",
       "      <td>0.0</td>\n",
       "      <td>0.0</td>\n",
       "      <td>180336.949559</td>\n",
       "      <td>0.0</td>\n",
       "      <td>0.0</td>\n",
       "      <td>675.485157</td>\n",
       "      <td>0.0</td>\n",
       "      <td>0.0</td>\n",
       "      <td>0</td>\n",
       "      <td>0</td>\n",
       "    </tr>\n",
       "    <tr>\n",
       "      <th>6</th>\n",
       "      <td>0.000000</td>\n",
       "      <td>0.0</td>\n",
       "      <td>0.0</td>\n",
       "      <td>0.000000</td>\n",
       "      <td>0.0</td>\n",
       "      <td>0.0</td>\n",
       "      <td>0.000000</td>\n",
       "      <td>0.0</td>\n",
       "      <td>0.0</td>\n",
       "      <td>0</td>\n",
       "      <td>0</td>\n",
       "    </tr>\n",
       "    <tr>\n",
       "      <th>7</th>\n",
       "      <td>0.000000</td>\n",
       "      <td>0.0</td>\n",
       "      <td>0.0</td>\n",
       "      <td>0.000000</td>\n",
       "      <td>0.0</td>\n",
       "      <td>0.0</td>\n",
       "      <td>0.000000</td>\n",
       "      <td>0.0</td>\n",
       "      <td>0.0</td>\n",
       "      <td>0</td>\n",
       "      <td>0</td>\n",
       "    </tr>\n",
       "    <tr>\n",
       "      <th>8</th>\n",
       "      <td>0.000000</td>\n",
       "      <td>0.0</td>\n",
       "      <td>0.0</td>\n",
       "      <td>0.000000</td>\n",
       "      <td>0.0</td>\n",
       "      <td>0.0</td>\n",
       "      <td>0.000000</td>\n",
       "      <td>0.0</td>\n",
       "      <td>0.0</td>\n",
       "      <td>0</td>\n",
       "      <td>0</td>\n",
       "    </tr>\n",
       "    <tr>\n",
       "      <th>9</th>\n",
       "      <td>0.000000</td>\n",
       "      <td>0.0</td>\n",
       "      <td>0.0</td>\n",
       "      <td>0.000000</td>\n",
       "      <td>0.0</td>\n",
       "      <td>0.0</td>\n",
       "      <td>0.000000</td>\n",
       "      <td>0.0</td>\n",
       "      <td>0.0</td>\n",
       "      <td>0</td>\n",
       "      <td>0</td>\n",
       "    </tr>\n",
       "  </tbody>\n",
       "</table>\n",
       "</div>"
      ],
      "text/plain": [
       "     LR_linear  RF_linear  XGB_linear   LR_quadratic  RF_quadratic  \\\n",
       "0     0.000000        0.0         0.0       0.000000           0.0   \n",
       "1     0.000000        0.0         0.0       0.000000           0.0   \n",
       "2     0.000000        0.0         0.0       0.000000           0.0   \n",
       "3     0.000000        0.0         0.0       0.000000           0.0   \n",
       "4     0.000000        0.0         0.0       0.000000           0.0   \n",
       "5  4128.176563        0.0         0.0  180336.949559           0.0   \n",
       "6     0.000000        0.0         0.0       0.000000           0.0   \n",
       "7     0.000000        0.0         0.0       0.000000           0.0   \n",
       "8     0.000000        0.0         0.0       0.000000           0.0   \n",
       "9     0.000000        0.0         0.0       0.000000           0.0   \n",
       "\n",
       "   XGB_quadratic     LR_ORTB  RF_ORTB  XGB_ORTB  click  payprice  \n",
       "0            0.0    0.000000      0.0       0.0      0         0  \n",
       "1            0.0    0.000000      0.0       0.0      0         0  \n",
       "2            0.0    0.000000      0.0       0.0      0         0  \n",
       "3            0.0    0.000000      0.0       0.0      0         0  \n",
       "4            0.0    0.000000      0.0       0.0      0         0  \n",
       "5            0.0  675.485157      0.0       0.0      0         0  \n",
       "6            0.0    0.000000      0.0       0.0      0         0  \n",
       "7            0.0    0.000000      0.0       0.0      0         0  \n",
       "8            0.0    0.000000      0.0       0.0      0         0  \n",
       "9            0.0    0.000000      0.0       0.0      0         0  "
      ]
     },
     "execution_count": 178,
     "metadata": {},
     "output_type": "execute_result"
    }
   ],
   "source": [
    "# 思路2：保留最大的n 个bid, 其他设为0\n",
    "\n",
    "N = 10 * 1000\n",
    "test1 = bidprice.mask(bidprice.rank(axis=0, method='max', ascending=False) > N, 0)\n",
    "test1.head(10)"
   ]
  },
  {
   "cell_type": "code",
   "execution_count": 174,
   "metadata": {
    "scrolled": true
   },
   "outputs": [
    {
     "data": {
      "text/html": [
       "<div>\n",
       "<style scoped>\n",
       "    .dataframe tbody tr th:only-of-type {\n",
       "        vertical-align: middle;\n",
       "    }\n",
       "\n",
       "    .dataframe tbody tr th {\n",
       "        vertical-align: top;\n",
       "    }\n",
       "\n",
       "    .dataframe thead th {\n",
       "        text-align: right;\n",
       "    }\n",
       "</style>\n",
       "<table border=\"1\" class=\"dataframe\">\n",
       "  <thead>\n",
       "    <tr style=\"text-align: right;\">\n",
       "      <th></th>\n",
       "      <th>LR_linear</th>\n",
       "      <th>RF_linear</th>\n",
       "      <th>XGB_linear</th>\n",
       "      <th>LR_quadratic</th>\n",
       "      <th>RF_quadratic</th>\n",
       "      <th>XGB_quadratic</th>\n",
       "      <th>LR_ORTB</th>\n",
       "      <th>RF_ORTB</th>\n",
       "      <th>XGB_ORTB</th>\n",
       "      <th>click</th>\n",
       "      <th>payprice</th>\n",
       "    </tr>\n",
       "  </thead>\n",
       "  <tbody>\n",
       "    <tr>\n",
       "      <th>0</th>\n",
       "      <td>0.000000</td>\n",
       "      <td>0.000000</td>\n",
       "      <td>0.000000</td>\n",
       "      <td>0.000000</td>\n",
       "      <td>0.000000</td>\n",
       "      <td>0.000000</td>\n",
       "      <td>0.000000</td>\n",
       "      <td>0.000000</td>\n",
       "      <td>0.000000</td>\n",
       "      <td>0.0</td>\n",
       "      <td>0.000000</td>\n",
       "    </tr>\n",
       "    <tr>\n",
       "      <th>1</th>\n",
       "      <td>92.956724</td>\n",
       "      <td>76.162986</td>\n",
       "      <td>0.000000</td>\n",
       "      <td>2.493924</td>\n",
       "      <td>0.835220</td>\n",
       "      <td>0.000000</td>\n",
       "      <td>167.133541</td>\n",
       "      <td>147.809923</td>\n",
       "      <td>0.000000</td>\n",
       "      <td>0.0</td>\n",
       "      <td>0.000000</td>\n",
       "    </tr>\n",
       "    <tr>\n",
       "      <th>2</th>\n",
       "      <td>0.000000</td>\n",
       "      <td>0.000000</td>\n",
       "      <td>0.000000</td>\n",
       "      <td>0.000000</td>\n",
       "      <td>0.000000</td>\n",
       "      <td>0.000000</td>\n",
       "      <td>0.000000</td>\n",
       "      <td>0.000000</td>\n",
       "      <td>0.000000</td>\n",
       "      <td>0.0</td>\n",
       "      <td>0.000000</td>\n",
       "    </tr>\n",
       "    <tr>\n",
       "      <th>3</th>\n",
       "      <td>0.000000</td>\n",
       "      <td>0.000000</td>\n",
       "      <td>0.000000</td>\n",
       "      <td>0.000000</td>\n",
       "      <td>0.000000</td>\n",
       "      <td>0.000000</td>\n",
       "      <td>0.000000</td>\n",
       "      <td>0.000000</td>\n",
       "      <td>0.000000</td>\n",
       "      <td>0.0</td>\n",
       "      <td>210.438005</td>\n",
       "    </tr>\n",
       "    <tr>\n",
       "      <th>4</th>\n",
       "      <td>0.000000</td>\n",
       "      <td>0.000000</td>\n",
       "      <td>73.423085</td>\n",
       "      <td>0.000000</td>\n",
       "      <td>0.000000</td>\n",
       "      <td>2.613352</td>\n",
       "      <td>0.000000</td>\n",
       "      <td>0.000000</td>\n",
       "      <td>141.138559</td>\n",
       "      <td>0.0</td>\n",
       "      <td>0.000000</td>\n",
       "    </tr>\n",
       "    <tr>\n",
       "      <th>5</th>\n",
       "      <td>1187.410787</td>\n",
       "      <td>0.000000</td>\n",
       "      <td>63.230006</td>\n",
       "      <td>406.933553</td>\n",
       "      <td>0.000000</td>\n",
       "      <td>1.938113</td>\n",
       "      <td>643.143049</td>\n",
       "      <td>0.000000</td>\n",
       "      <td>129.610035</td>\n",
       "      <td>0.0</td>\n",
       "      <td>199.309072</td>\n",
       "    </tr>\n",
       "    <tr>\n",
       "      <th>6</th>\n",
       "      <td>0.000000</td>\n",
       "      <td>0.000000</td>\n",
       "      <td>0.000000</td>\n",
       "      <td>0.000000</td>\n",
       "      <td>0.000000</td>\n",
       "      <td>0.000000</td>\n",
       "      <td>0.000000</td>\n",
       "      <td>0.000000</td>\n",
       "      <td>0.000000</td>\n",
       "      <td>0.0</td>\n",
       "      <td>0.000000</td>\n",
       "    </tr>\n",
       "    <tr>\n",
       "      <th>7</th>\n",
       "      <td>0.000000</td>\n",
       "      <td>0.000000</td>\n",
       "      <td>0.000000</td>\n",
       "      <td>0.000000</td>\n",
       "      <td>0.000000</td>\n",
       "      <td>0.000000</td>\n",
       "      <td>0.000000</td>\n",
       "      <td>0.000000</td>\n",
       "      <td>0.000000</td>\n",
       "      <td>0.0</td>\n",
       "      <td>179.074649</td>\n",
       "    </tr>\n",
       "    <tr>\n",
       "      <th>8</th>\n",
       "      <td>0.000000</td>\n",
       "      <td>0.000000</td>\n",
       "      <td>0.000000</td>\n",
       "      <td>0.000000</td>\n",
       "      <td>0.000000</td>\n",
       "      <td>0.000000</td>\n",
       "      <td>0.000000</td>\n",
       "      <td>0.000000</td>\n",
       "      <td>0.000000</td>\n",
       "      <td>0.0</td>\n",
       "      <td>0.000000</td>\n",
       "    </tr>\n",
       "    <tr>\n",
       "      <th>9</th>\n",
       "      <td>0.000000</td>\n",
       "      <td>94.847312</td>\n",
       "      <td>0.000000</td>\n",
       "      <td>0.000000</td>\n",
       "      <td>1.295278</td>\n",
       "      <td>0.000000</td>\n",
       "      <td>0.000000</td>\n",
       "      <td>167.120344</td>\n",
       "      <td>0.000000</td>\n",
       "      <td>0.0</td>\n",
       "      <td>0.000000</td>\n",
       "    </tr>\n",
       "  </tbody>\n",
       "</table>\n",
       "</div>"
      ],
      "text/plain": [
       "     LR_linear  RF_linear  XGB_linear  LR_quadratic  RF_quadratic  \\\n",
       "0     0.000000   0.000000    0.000000      0.000000      0.000000   \n",
       "1    92.956724  76.162986    0.000000      2.493924      0.835220   \n",
       "2     0.000000   0.000000    0.000000      0.000000      0.000000   \n",
       "3     0.000000   0.000000    0.000000      0.000000      0.000000   \n",
       "4     0.000000   0.000000   73.423085      0.000000      0.000000   \n",
       "5  1187.410787   0.000000   63.230006    406.933553      0.000000   \n",
       "6     0.000000   0.000000    0.000000      0.000000      0.000000   \n",
       "7     0.000000   0.000000    0.000000      0.000000      0.000000   \n",
       "8     0.000000   0.000000    0.000000      0.000000      0.000000   \n",
       "9     0.000000  94.847312    0.000000      0.000000      1.295278   \n",
       "\n",
       "   XGB_quadratic     LR_ORTB     RF_ORTB    XGB_ORTB  click    payprice  \n",
       "0       0.000000    0.000000    0.000000    0.000000    0.0    0.000000  \n",
       "1       0.000000  167.133541  147.809923    0.000000    0.0    0.000000  \n",
       "2       0.000000    0.000000    0.000000    0.000000    0.0    0.000000  \n",
       "3       0.000000    0.000000    0.000000    0.000000    0.0  210.438005  \n",
       "4       2.613352    0.000000    0.000000  141.138559    0.0    0.000000  \n",
       "5       1.938113  643.143049    0.000000  129.610035    0.0  199.309072  \n",
       "6       0.000000    0.000000    0.000000    0.000000    0.0    0.000000  \n",
       "7       0.000000    0.000000    0.000000    0.000000    0.0  179.074649  \n",
       "8       0.000000    0.000000    0.000000    0.000000    0.0    0.000000  \n",
       "9       0.000000    0.000000  167.120344    0.000000    0.0    0.000000  "
      ]
     },
     "execution_count": 174,
     "metadata": {},
     "output_type": "execute_result"
    }
   ],
   "source": [
    "test2 = test1 / test1.sum() * 6500000\n",
    "test2.head(10)"
   ]
  },
  {
   "cell_type": "code",
   "execution_count": 136,
   "metadata": {
    "scrolled": false
   },
   "outputs": [
    {
     "data": {
      "text/html": [
       "<div>\n",
       "<style scoped>\n",
       "    .dataframe tbody tr th:only-of-type {\n",
       "        vertical-align: middle;\n",
       "    }\n",
       "\n",
       "    .dataframe tbody tr th {\n",
       "        vertical-align: top;\n",
       "    }\n",
       "\n",
       "    .dataframe thead th {\n",
       "        text-align: right;\n",
       "    }\n",
       "</style>\n",
       "<table border=\"1\" class=\"dataframe\">\n",
       "  <thead>\n",
       "    <tr style=\"text-align: right;\">\n",
       "      <th></th>\n",
       "      <th>LR_linear</th>\n",
       "      <th>RF_linear</th>\n",
       "      <th>XGB_linear</th>\n",
       "      <th>LR_quadratic</th>\n",
       "      <th>RF_quadratic</th>\n",
       "      <th>XGB_quadratic</th>\n",
       "      <th>LR_ORTB</th>\n",
       "      <th>RF_ORTB</th>\n",
       "      <th>XGB_ORTB</th>\n",
       "      <th>click</th>\n",
       "      <th>payprice</th>\n",
       "    </tr>\n",
       "  </thead>\n",
       "  <tbody>\n",
       "    <tr>\n",
       "      <th>count</th>\n",
       "      <td>303925.000000</td>\n",
       "      <td>303925.000000</td>\n",
       "      <td>303925.000000</td>\n",
       "      <td>3.039250e+05</td>\n",
       "      <td>3.039250e+05</td>\n",
       "      <td>3.039250e+05</td>\n",
       "      <td>303925.000000</td>\n",
       "      <td>303925.000000</td>\n",
       "      <td>303925.000000</td>\n",
       "      <td>303925.000000</td>\n",
       "      <td>303925.000000</td>\n",
       "    </tr>\n",
       "    <tr>\n",
       "      <th>mean</th>\n",
       "      <td>131.016318</td>\n",
       "      <td>112.002324</td>\n",
       "      <td>98.677637</td>\n",
       "      <td>9.530429e+03</td>\n",
       "      <td>1.224680e+04</td>\n",
       "      <td>2.951271e+03</td>\n",
       "      <td>80.245547</td>\n",
       "      <td>72.449835</td>\n",
       "      <td>69.583920</td>\n",
       "      <td>0.000665</td>\n",
       "      <td>78.234005</td>\n",
       "    </tr>\n",
       "    <tr>\n",
       "      <th>std</th>\n",
       "      <td>939.927197</td>\n",
       "      <td>1069.944645</td>\n",
       "      <td>518.805080</td>\n",
       "      <td>1.002244e+06</td>\n",
       "      <td>1.777911e+06</td>\n",
       "      <td>1.396769e+05</td>\n",
       "      <td>75.427932</td>\n",
       "      <td>70.466556</td>\n",
       "      <td>62.667848</td>\n",
       "      <td>0.025772</td>\n",
       "      <td>60.026063</td>\n",
       "    </tr>\n",
       "    <tr>\n",
       "      <th>min</th>\n",
       "      <td>0.200073</td>\n",
       "      <td>0.000000</td>\n",
       "      <td>4.651855</td>\n",
       "      <td>4.235874e-04</td>\n",
       "      <td>0.000000e+00</td>\n",
       "      <td>2.289921e-01</td>\n",
       "      <td>0.577249</td>\n",
       "      <td>0.000000</td>\n",
       "      <td>10.734482</td>\n",
       "      <td>0.000000</td>\n",
       "      <td>0.000000</td>\n",
       "    </tr>\n",
       "    <tr>\n",
       "      <th>25%</th>\n",
       "      <td>36.412003</td>\n",
       "      <td>31.371260</td>\n",
       "      <td>25.713233</td>\n",
       "      <td>1.402999e+01</td>\n",
       "      <td>1.041435e+01</td>\n",
       "      <td>6.996512e+00</td>\n",
       "      <td>48.285258</td>\n",
       "      <td>43.818019</td>\n",
       "      <td>38.398075</td>\n",
       "      <td>0.000000</td>\n",
       "      <td>33.000000</td>\n",
       "    </tr>\n",
       "    <tr>\n",
       "      <th>50%</th>\n",
       "      <td>59.855050</td>\n",
       "      <td>48.053406</td>\n",
       "      <td>46.517395</td>\n",
       "      <td>3.791140e+01</td>\n",
       "      <td>2.443524e+01</td>\n",
       "      <td>2.289807e+01</td>\n",
       "      <td>66.066447</td>\n",
       "      <td>57.625865</td>\n",
       "      <td>56.458805</td>\n",
       "      <td>0.000000</td>\n",
       "      <td>68.000000</td>\n",
       "    </tr>\n",
       "    <tr>\n",
       "      <th>75%</th>\n",
       "      <td>100.585790</td>\n",
       "      <td>102.626745</td>\n",
       "      <td>81.429954</td>\n",
       "      <td>1.070635e+02</td>\n",
       "      <td>1.114524e+02</td>\n",
       "      <td>7.016759e+01</td>\n",
       "      <td>90.344546</td>\n",
       "      <td>91.421993</td>\n",
       "      <td>79.665844</td>\n",
       "      <td>0.000000</td>\n",
       "      <td>100.000000</td>\n",
       "    </tr>\n",
       "    <tr>\n",
       "      <th>max</th>\n",
       "      <td>161067.864584</td>\n",
       "      <td>170833.020636</td>\n",
       "      <td>52315.108707</td>\n",
       "      <td>2.745276e+08</td>\n",
       "      <td>3.088246e+08</td>\n",
       "      <td>2.896159e+07</td>\n",
       "      <td>4322.483175</td>\n",
       "      <td>4452.180676</td>\n",
       "      <td>2454.895324</td>\n",
       "      <td>1.000000</td>\n",
       "      <td>300.000000</td>\n",
       "    </tr>\n",
       "  </tbody>\n",
       "</table>\n",
       "</div>"
      ],
      "text/plain": [
       "           LR_linear      RF_linear     XGB_linear  LR_quadratic  \\\n",
       "count  303925.000000  303925.000000  303925.000000  3.039250e+05   \n",
       "mean      131.016318     112.002324      98.677637  9.530429e+03   \n",
       "std       939.927197    1069.944645     518.805080  1.002244e+06   \n",
       "min         0.200073       0.000000       4.651855  4.235874e-04   \n",
       "25%        36.412003      31.371260      25.713233  1.402999e+01   \n",
       "50%        59.855050      48.053406      46.517395  3.791140e+01   \n",
       "75%       100.585790     102.626745      81.429954  1.070635e+02   \n",
       "max    161067.864584  170833.020636   52315.108707  2.745276e+08   \n",
       "\n",
       "       RF_quadratic  XGB_quadratic        LR_ORTB        RF_ORTB  \\\n",
       "count  3.039250e+05   3.039250e+05  303925.000000  303925.000000   \n",
       "mean   1.224680e+04   2.951271e+03      80.245547      72.449835   \n",
       "std    1.777911e+06   1.396769e+05      75.427932      70.466556   \n",
       "min    0.000000e+00   2.289921e-01       0.577249       0.000000   \n",
       "25%    1.041435e+01   6.996512e+00      48.285258      43.818019   \n",
       "50%    2.443524e+01   2.289807e+01      66.066447      57.625865   \n",
       "75%    1.114524e+02   7.016759e+01      90.344546      91.421993   \n",
       "max    3.088246e+08   2.896159e+07    4322.483175    4452.180676   \n",
       "\n",
       "            XGB_ORTB          click       payprice  \n",
       "count  303925.000000  303925.000000  303925.000000  \n",
       "mean       69.583920       0.000665      78.234005  \n",
       "std        62.667848       0.025772      60.026063  \n",
       "min        10.734482       0.000000       0.000000  \n",
       "25%        38.398075       0.000000      33.000000  \n",
       "50%        56.458805       0.000000      68.000000  \n",
       "75%        79.665844       0.000000     100.000000  \n",
       "max      2454.895324       1.000000     300.000000  "
      ]
     },
     "execution_count": 136,
     "metadata": {},
     "output_type": "execute_result"
    }
   ],
   "source": [
    "bidprice.describe()"
   ]
  },
  {
   "cell_type": "code",
   "execution_count": 115,
   "metadata": {
    "scrolled": true
   },
   "outputs": [
    {
     "data": {
      "text/plain": [
       "count    303925.000000\n",
       "mean          0.098192\n",
       "std           0.100744\n",
       "min           0.002415\n",
       "25%           0.043971\n",
       "50%           0.069958\n",
       "75%           0.113124\n",
       "max           0.979859\n",
       "Name: click_proba, dtype: float64"
      ]
     },
     "execution_count": 115,
     "metadata": {},
     "output_type": "execute_result"
    }
   ],
   "source": [
    "rf_pctr.click_proba.describe()"
   ]
  },
  {
   "cell_type": "code",
   "execution_count": 126,
   "metadata": {
    "scrolled": true
   },
   "outputs": [
    {
     "data": {
      "text/plain": [
       "18281.79584348607"
      ]
     },
     "execution_count": 126,
     "metadata": {},
     "output_type": "execute_result"
    }
   ],
   "source": [
    "rf_pctr[ rf_pctr.click_proba > .1 ].click_proba.sum()"
   ]
  },
  {
   "cell_type": "code",
   "execution_count": 12,
   "metadata": {},
   "outputs": [],
   "source": [
    "# click_list = []\n",
    "\n",
    "# for mul in lin: \n",
    "# #     print('Multiple = ', mul)\n",
    "    \n",
    "#     # 取一部分\n",
    "#     subset = resultsBids.sample(frac=1, replace=False,).copy(True) #divided by 5\n",
    "#     subset.reset_index(drop=True, inplace=True)\n",
    "    \n",
    "#     # self and other\n",
    "#     df_self = subset[['BestLinear']] \n",
    "#     df_other1 = subset[['click', 'payprice', 'ConstantBidding', 'RandomBidding', 'xgb_lasso_Str2']]\n",
    "    \n",
    "    \n",
    "#     df_other_combine = pd.concat([df_other1, df_other2], axis=1,)\n",
    "    \n",
    "#     spend, imp, click, CTR, CPM, CPC = evaluate_rand_multiagent_modifying(df_self, df_other1, num= 5)\n",
    "#     print('click= ', click)\n",
    "#     click_list.append(click)"
   ]
  },
  {
   "cell_type": "code",
   "execution_count": null,
   "metadata": {},
   "outputs": [],
   "source": []
  },
  {
   "cell_type": "code",
   "execution_count": 3,
   "metadata": {},
   "outputs": [],
   "source": [
    "test_set_pred = pd.read_csv('result_7.csv')"
   ]
  },
  {
   "cell_type": "code",
   "execution_count": 3,
   "metadata": {
    "scrolled": true
   },
   "outputs": [
    {
     "data": {
      "text/plain": [
       "(303375, 2)"
      ]
     },
     "execution_count": 3,
     "metadata": {},
     "output_type": "execute_result"
    }
   ],
   "source": [
    "test_set_pred.shape"
   ]
  },
  {
   "cell_type": "code",
   "execution_count": 4,
   "metadata": {},
   "outputs": [
    {
     "data": {
      "text/html": [
       "<div>\n",
       "<style scoped>\n",
       "    .dataframe tbody tr th:only-of-type {\n",
       "        vertical-align: middle;\n",
       "    }\n",
       "\n",
       "    .dataframe tbody tr th {\n",
       "        vertical-align: top;\n",
       "    }\n",
       "\n",
       "    .dataframe thead th {\n",
       "        text-align: right;\n",
       "    }\n",
       "</style>\n",
       "<table border=\"1\" class=\"dataframe\">\n",
       "  <thead>\n",
       "    <tr style=\"text-align: right;\">\n",
       "      <th></th>\n",
       "      <th>bidid</th>\n",
       "      <th>bidprice</th>\n",
       "    </tr>\n",
       "  </thead>\n",
       "  <tbody>\n",
       "    <tr>\n",
       "      <th>0</th>\n",
       "      <td>366c563de7d90feb9d4dab53e795a93fb3157387</td>\n",
       "      <td>277.862730</td>\n",
       "    </tr>\n",
       "    <tr>\n",
       "      <th>1</th>\n",
       "      <td>29167d4caa719788b5a342dbaa25151d53121f80</td>\n",
       "      <td>2839.704000</td>\n",
       "    </tr>\n",
       "    <tr>\n",
       "      <th>2</th>\n",
       "      <td>ff8bc3f4d44a3ea60c5f3a3a8fbe7cd98fb2966e</td>\n",
       "      <td>6.452158</td>\n",
       "    </tr>\n",
       "    <tr>\n",
       "      <th>3</th>\n",
       "      <td>844c2da00d45315f20b748ec131c26ee99a7cbc7</td>\n",
       "      <td>63.359745</td>\n",
       "    </tr>\n",
       "    <tr>\n",
       "      <th>4</th>\n",
       "      <td>c6017f0ad0c44d7d0c9b62583ea863f28941c0ca</td>\n",
       "      <td>55.147120</td>\n",
       "    </tr>\n",
       "  </tbody>\n",
       "</table>\n",
       "</div>"
      ],
      "text/plain": [
       "                                      bidid     bidprice\n",
       "0  366c563de7d90feb9d4dab53e795a93fb3157387   277.862730\n",
       "1  29167d4caa719788b5a342dbaa25151d53121f80  2839.704000\n",
       "2  ff8bc3f4d44a3ea60c5f3a3a8fbe7cd98fb2966e     6.452158\n",
       "3  844c2da00d45315f20b748ec131c26ee99a7cbc7    63.359745\n",
       "4  c6017f0ad0c44d7d0c9b62583ea863f28941c0ca    55.147120"
      ]
     },
     "execution_count": 4,
     "metadata": {},
     "output_type": "execute_result"
    }
   ],
   "source": [
    "test_set_pred.head()"
   ]
  },
  {
   "cell_type": "code",
   "execution_count": 32,
   "metadata": {},
   "outputs": [],
   "source": [
    "?test_set_20k_biggest.rank"
   ]
  },
  {
   "cell_type": "code",
   "execution_count": 75,
   "metadata": {
    "scrolled": true
   },
   "outputs": [
    {
     "data": {
      "text/plain": [
       "(303375, 3)"
      ]
     },
     "execution_count": 75,
     "metadata": {},
     "output_type": "execute_result"
    }
   ],
   "source": [
    "test_set_20k_biggest.shape"
   ]
  },
  {
   "cell_type": "code",
   "execution_count": null,
   "metadata": {
    "scrolled": false
   },
   "outputs": [],
   "source": [
    "# N = 20*1000 # 20k biggest\n",
    "test_set_20k_biggest = test_set_pred.mask(test_set_pred.rank(axis=0, method='min', ascending=False) < 20000, 0) # rank < 20k, set 12\n",
    "# test_set_20k_biggest = test_set_pred.mask(test_set_pred.rank(axis=0, method='min', ascending=False) > N, ) # rank > 20k, set 12\n",
    "# test_set_20k_biggest = test_set_20k_biggest.mask(test_set_pred.rank(axis=0, method='min', ascending=False) > 40000, 0) # rank > 20k, set 12\n",
    "\n",
    "# test_set_20k_biggest.bidid = test_set_pred.bidid\n",
    "test_set_20k_biggest.sum()"
   ]
  },
  {
   "cell_type": "code",
   "execution_count": 78,
   "metadata": {},
   "outputs": [],
   "source": [
    "test_set_20k_biggest.bidid = test_set_pred.bidid"
   ]
  },
  {
   "cell_type": "code",
   "execution_count": null,
   "metadata": {
    "scrolled": true
   },
   "outputs": [],
   "source": [
    "len( test_set_20k_biggest.bidprice.nonzero()[0] )"
   ]
  },
  {
   "cell_type": "code",
   "execution_count": 58,
   "metadata": {
    "scrolled": true
   },
   "outputs": [
    {
     "name": "stdout",
     "output_type": "stream",
     "text": [
      "<class 'pandas.core.frame.DataFrame'>\n",
      "RangeIndex: 303375 entries, 0 to 303374\n",
      "Data columns (total 3 columns):\n",
      "Unnamed: 0    303375 non-null int64\n",
      "bidid         303375 non-null object\n",
      "bidprice      303375 non-null float64\n",
      "dtypes: float64(1), int64(1), object(1)\n",
      "memory usage: 6.9+ MB\n"
     ]
    }
   ],
   "source": [
    "test_set_20k_biggest.info()"
   ]
  },
  {
   "cell_type": "code",
   "execution_count": 55,
   "metadata": {},
   "outputs": [],
   "source": [
    "# test_set_20k_biggest"
   ]
  },
  {
   "cell_type": "code",
   "execution_count": 8,
   "metadata": {},
   "outputs": [],
   "source": [
    "test_set_20k_biggest.bidprice /= 7.5"
   ]
  },
  {
   "cell_type": "code",
   "execution_count": 9,
   "metadata": {
    "scrolled": true
   },
   "outputs": [
    {
     "data": {
      "text/plain": [
       "65130014.02666667"
      ]
     },
     "execution_count": 9,
     "metadata": {},
     "output_type": "execute_result"
    }
   ],
   "source": [
    "test_set_20k_biggest.bidprice.sum()"
   ]
  },
  {
   "cell_type": "code",
   "execution_count": null,
   "metadata": {},
   "outputs": [],
   "source": [
    "test_set_20k_biggest.sum()"
   ]
  },
  {
   "cell_type": "code",
   "execution_count": 11,
   "metadata": {},
   "outputs": [],
   "source": [
    "test_set_20k_biggest.to_csv(\"test_set_60_biggest_scale.csv\")"
   ]
  },
  {
   "cell_type": "code",
   "execution_count": null,
   "metadata": {},
   "outputs": [],
   "source": []
  },
  {
   "cell_type": "code",
   "execution_count": null,
   "metadata": {},
   "outputs": [],
   "source": []
  },
  {
   "cell_type": "code",
   "execution_count": null,
   "metadata": {},
   "outputs": [],
   "source": []
  }
 ],
 "metadata": {
  "kernelspec": {
   "display_name": "Python 3",
   "language": "python",
   "name": "python3"
  },
  "language_info": {
   "codemirror_mode": {
    "name": "ipython",
    "version": 3
   },
   "file_extension": ".py",
   "mimetype": "text/x-python",
   "name": "python",
   "nbconvert_exporter": "python",
   "pygments_lexer": "ipython3",
   "version": "3.6.4"
  },
  "toc": {
   "base_numbering": 1,
   "nav_menu": {},
   "number_sections": true,
   "sideBar": true,
   "skip_h1_title": false,
   "title_cell": "Table of Contents",
   "title_sidebar": "Contents",
   "toc_cell": false,
   "toc_position": {},
   "toc_section_display": true,
   "toc_window_display": false
  }
 },
 "nbformat": 4,
 "nbformat_minor": 2
}
